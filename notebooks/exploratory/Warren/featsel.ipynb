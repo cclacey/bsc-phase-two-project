{
 "cells": [
  {
   "cell_type": "markdown",
   "metadata": {},
   "source": [
    "### some feature selection\n",
    "\n",
    "### Makin models from all the features\n",
    "\n",
    "I make sure that columns are the right data types and fill nan values with the appropriate values. I also made season and reno columns. season is categorical and contains what season the sale happened in. reno is 1 for has been renovated and 0 for hasn't been renovated. I did a linear regression with and without a polynomial features. I also tried SGD and decision tree. I think that SGD and decision tree aren't better and take a while to run. I'm just gonna stick with the first two. I made an error before loading the other models to the notebook stops running after the polynomial features linear regression."
   ]
  },
  {
   "cell_type": "markdown",
   "metadata": {},
   "source": [
    "### Feature Selection\n",
    "\n",
    "This new model uses some feature selection to pick the best features to use in the model. I also tried imputing missing values and using polynomial features. I didn't expect imputing to do anything because I had already replaced missing values. I don't think that I am using polynomial features correctly and that is why it looks like it isn't doiing anything."
   ]
  },
  {
   "cell_type": "code",
   "execution_count": 1,
   "metadata": {
    "tags": []
   },
   "outputs": [],
   "source": [
    "#Importing packages\n",
    "import pandas as pd\n",
    "import numpy as np\n",
    "import matplotlib.pyplot as plt\n",
    "import seaborn as sns"
   ]
  },
  {
   "cell_type": "markdown",
   "metadata": {},
   "source": [
    "# Column Names and descriptions for Kings County Data Set\n",
    "* **id** - unique identified for a house\n",
    "* **dateDate** - house was sold\n",
    "* **pricePrice** -  is prediction target\n",
    "* **bedroomsNumber** -  of Bedrooms/House\n",
    "* **bathroomsNumber** -  of bathrooms/bedrooms\n",
    "* **sqft_livingsquare** -  footage of the home\n",
    "* **sqft_lotsquare** -  footage of the lot\n",
    "* **floorsTotal** -  floors (levels) in house\n",
    "* **waterfront** - House which has a view to a waterfront\n",
    "* **view** - Has been viewed\n",
    "* **condition** - How good the condition is ( Overall )\n",
    "* **grade** - overall grade given to the housing unit, based on King County grading system\n",
    "* **sqft_above** - square footage of house apart from basement\n",
    "* **sqft_basement** - square footage of the basement\n",
    "* **yr_built** - Built Year\n",
    "* **yr_renovated** - Year when house was renovated\n",
    "* **zipcode** - zip\n",
    "* **lat** - Latitude coordinate\n",
    "* **long** - Longitude coordinate\n",
    "* **sqft_living15** - The square footage of interior housing living space for the nearest 15 neighbors\n",
    "* **sqft_lot15** - The square footage of the land lots of the nearest 15 neighbors\n"
   ]
  },
  {
   "cell_type": "code",
   "execution_count": 2,
   "metadata": {},
   "outputs": [
    {
     "name": "stdout",
     "output_type": "stream",
     "text": [
      "<class 'pandas.core.frame.DataFrame'>\n",
      "Int64Index: 21577 entries, 0 to 21596\n",
      "Data columns (total 1 columns):\n",
      " #   Column         Non-Null Count  Dtype  \n",
      "---  ------         --------------  -----  \n",
      " 0   median_by_zip  21577 non-null  float64\n",
      "dtypes: float64(1)\n",
      "memory usage: 337.1 KB\n"
     ]
    }
   ],
   "source": [
    "#read in the cleaned df and set col index\n",
    "df = pd.read_csv('cleaned_df',index_col=0)\n",
    "df_med = pd.read_csv('mediandf.csv',index_col=0)\n",
    "df_med.info()"
   ]
  },
  {
   "cell_type": "code",
   "execution_count": 3,
   "metadata": {},
   "outputs": [],
   "source": [
    "# drop_rows = df['price'].sort_values(ascending=False)[:300]\n",
    "# df.drop(drop_rows.index,axis=0,inplace=True)\n"
   ]
  },
  {
   "cell_type": "code",
   "execution_count": 4,
   "metadata": {},
   "outputs": [],
   "source": [
    "#drop id col\n",
    "df.drop('id',axis=1,inplace=True)\n",
    "df = df.join(df_med)\n",
    "#waterfront time grade\n",
    "df['water_times_grade'] = df['waterfront'] * df['grade']"
   ]
  },
  {
   "cell_type": "code",
   "execution_count": 5,
   "metadata": {},
   "outputs": [
    {
     "data": {
      "text/plain": [
       "Index(['price', 'bedrooms', 'bathrooms', 'sqft_living', 'sqft_lot', 'floors',\n",
       "       'waterfront', 'view', 'condition', 'grade', 'sqft_above',\n",
       "       'sqft_basement', 'yr_built', 'yr_renovated', 'zipcode', 'lat', 'long',\n",
       "       'sqft_living15', 'sqft_lot15', 'reno', 'price_per_sqft', 'year', 'day',\n",
       "       'month', 'season', 'sqft_living_times_grade', 'condition_div_grade',\n",
       "       'sqft_living_sq', 'bathrooms_sq', 'median_by_zip', 'water_times_grade'],\n",
       "      dtype='object')"
      ]
     },
     "execution_count": 5,
     "metadata": {},
     "output_type": "execute_result"
    }
   ],
   "source": [
    "df.columns\n"
   ]
  },
  {
   "cell_type": "code",
   "execution_count": 6,
   "metadata": {},
   "outputs": [],
   "source": [
    "#import model packages\n",
    "#fir the basic model\n",
    "#for testing\n",
    "from sklearn.model_selection import cross_val_score\n",
    "#adding some more model testing\n",
    "from sklearn.model_selection import KFold\n",
    "#train test split\n",
    "from sklearn.model_selection import train_test_split\n",
    "#scoring\n",
    "#feature elimination\n",
    "from sklearn.feature_selection import RFE\n",
    "#scoring\n",
    "from sklearn.metrics import mean_squared_error\n",
    "#trying some polynomial features\n",
    "\n"
   ]
  },
  {
   "cell_type": "code",
   "execution_count": 7,
   "metadata": {},
   "outputs": [],
   "source": [
    "#defining which values are categorical or not\n",
    "#'bedrooms','floors','condition','zipcode','season','view'\n",
    "categoricals = ['view', 'zipcode','reno']\n",
    "\n",
    "continuous = ['price','bedrooms', 'sqft_lot', 'floors',\n",
    "             'sqft_above','sqft_basement', 'yr_built', 'lat', 'long',\n",
    "             'sqft_living15', 'sqft_lot15','month', 'condition_div_grade',\n",
    "             'bathrooms_sq', 'median_by_zip','water_times_grade']\n",
    "\n",
    "df_cont = df[continuous]\n"
   ]
  },
  {
   "cell_type": "code",
   "execution_count": 8,
   "metadata": {},
   "outputs": [],
   "source": [
    "#compare different scalers\n",
    "#im going to make a function to take the output of scalers and git back the score\n",
    "#then do it for multiple scalers"
   ]
  },
  {
   "cell_type": "code",
   "execution_count": 9,
   "metadata": {},
   "outputs": [],
   "source": [
    "#one hot encode the categoricals\n",
    "df_ohe = pd.get_dummies(df[categoricals])\n",
    "#combine the data into one frame\n",
    "preprocessed = pd.concat([df_cont, df_ohe],axis=1)\n",
    "#make feature set by dropping price\n",
    "X = preprocessed.drop('price',axis=1)"
   ]
  },
  {
   "cell_type": "code",
   "execution_count": 10,
   "metadata": {},
   "outputs": [],
   "source": [
    "#scale here\n",
    "def scales(scaler,X):\n",
    "    #suppress warnings\n",
    "    import warnings\n",
    "    \n",
    "    from sklearn.exceptions import DataConversionWarning\n",
    "    \n",
    "    warnings.filterwarnings(action='ignore', category=RuntimeWarning)\n",
    "                        \n",
    "    from sklearn.preprocessing import MinMaxScaler\n",
    "    from sklearn.preprocessing import minmax_scale\n",
    "    from sklearn.preprocessing import MaxAbsScaler\n",
    "    from sklearn.preprocessing import StandardScaler\n",
    "    from sklearn.preprocessing import RobustScaler\n",
    "    from sklearn.preprocessing import Normalizer\n",
    "    from sklearn.preprocessing import QuantileTransformer\n",
    "    from sklearn.preprocessing import PowerTransformer\n",
    "    '''choose which scaler to use. Pass the name and features to scale'''\n",
    "    \n",
    "    if scaler == 'standard':\n",
    "        standard = StandardScaler().fit_transform(X)\n",
    "        choice = standard\n",
    "\n",
    "    elif scaler == 'minmax':\n",
    "        minmax = MinMaxScaler().fit_transform(X)\n",
    "        choice = minmax\n",
    "    elif scaler == 'maxabs':\n",
    "        maxabs = MaxAbsScaler().fit_transform(X)\n",
    "        choice = maxabs\n",
    "    elif scaler == 'robust':\n",
    "        robust = RobustScaler().fit_transform(X)\n",
    "        choice = robust\n",
    "    elif scaler == 'norm':\n",
    "        norm = Normalizer().fit_transform(X)\n",
    "        choice = norm\n",
    "    elif scaler == 'quant':\n",
    "        quant = QuantileTransformer().fit_transform(X)\n",
    "        choice = quant\n",
    "    elif scaler == 'power':\n",
    "        power = PowerTransformer().fit_transform(X)\n",
    "        choice = power\n",
    "    elif scaler == 'none':\n",
    "        choice = X\n",
    "        \n",
    "    choice = pd.DataFrame(choice)\n",
    "    return choice"
   ]
  },
  {
   "cell_type": "code",
   "execution_count": 11,
   "metadata": {},
   "outputs": [],
   "source": [
    "\n",
    "#make target set\n",
    "y = preprocessed['price']\n",
    "\n",
    "def model_train(scaled_X,y,n_feats,estimator):\n",
    "\n",
    "    #make train test split\n",
    "    X_train, X_test, y_train, y_test = train_test_split(scaled_X, y, random_state=1)\n",
    "    #ini regression model\n",
    "    #Apply polynomial features\n",
    "    #comment these line out to skip\n",
    "    # X_train = poly.fit_transform(X_train,y_train)\n",
    "    # X_test = poly.fit_transform(X_test,y_test)\n",
    "\n",
    "    #use the best features\n",
    "    #selector = RFE(estimator, n_features_to_select=n_feats, step=1)\n",
    "    \n",
    "    #selector = selector.fit(X_test, y_test)\n",
    "    selector = estimator.fit(X_test, y_test)\n",
    "    \n",
    "    #get predicted values\n",
    "    y_hat_train = selector.predict(X_train)\n",
    "    y_hat_test = selector.predict(X_test)\n",
    "    \n",
    "    return estimator, y_hat_train, y_hat_test, y_train, y_test, X_test, X_train"
   ]
  },
  {
   "cell_type": "code",
   "execution_count": null,
   "metadata": {},
   "outputs": [],
   "source": []
  },
  {
   "cell_type": "code",
   "execution_count": 12,
   "metadata": {},
   "outputs": [],
   "source": [
    "def model_score(estimator,y_hat_train,y_hat_test,y_train,y_test,X_test,X_train,n_splits=5):\n",
    "    from sklearn.metrics import r2_score\n",
    "    #r2 scoring\n",
    "    split_score = r2_score(y_test, y_hat_test)\n",
    "    r2_score = split_score.mean()\n",
    "    #RMSE scoring\n",
    "    RMSE_test = mean_squared_error(y_test,y_hat_test,squared=False)\n",
    "    RMSE_train = mean_squared_error(y_train,y_hat_train,squared=False)\n",
    "    RMSE_diff = abs(RMSE_test - RMSE_train)\n",
    "    # RMSE_test,RMSE_train\n",
    "    #cross val scoring using KFold splits\n",
    "    cv = KFold(n_splits=n_splits,shuffle=True)\n",
    "    cv_score = cross_val_score(estimator,X_test,y_test,scoring='r2',cv=cv)\n",
    "    cv_scores = cv_score.mean()\n",
    "    \n",
    "    #plot here\n",
    "    coefs = estimator.coef_\n",
    "    \n",
    "    \n",
    "    \n",
    "    \n",
    "    return round(r2_score,3),round(RMSE_diff,3),round(cv_scores,3),round(RMSE_test,3),round(RMSE_train,3),coefs"
   ]
  },
  {
   "cell_type": "code",
   "execution_count": null,
   "metadata": {},
   "outputs": [],
   "source": []
  },
  {
   "cell_type": "code",
   "execution_count": 13,
   "metadata": {},
   "outputs": [
    {
     "name": "stdout",
     "output_type": "stream",
     "text": [
      "There are 18 features to choose from\n"
     ]
    }
   ],
   "source": [
    "print(f'There are {len(X.columns)} features to choose from')"
   ]
  },
  {
   "cell_type": "code",
   "execution_count": 14,
   "metadata": {},
   "outputs": [
    {
     "name": "stdout",
     "output_type": "stream",
     "text": [
      "Model used: LinearRegression(n_jobs=4)\n",
      "Scaler used: standard\n",
      "Model scores are:\n",
      "r2_score: 0.697\n",
      "RMSE differece: 2853.963\n",
      "Test RMSE: 150324.153\n",
      "Train RMSE: 147470.19\n",
      "Cross Val Scores: 0.691\n",
      "\n",
      "\n"
     ]
    }
   ],
   "source": [
    "from sklearn.linear_model import LinearRegression\n",
    "from sklearn.linear_model import SGDRegressor\n",
    "from sklearn.preprocessing import PolynomialFeatures\n",
    "#set to degree 2, 3 is too slow\n",
    "from sklearn.linear_model import Ridge\n",
    "from sklearn.linear_model import Lasso\n",
    "from sklearn.neighbors import KNeighborsRegressor\n",
    "from sklearn import tree\n",
    "\n",
    "#'none',standard','minmax','maxabs','robust','norm','quant','power'\n",
    "\n",
    "scalers = ['standard']\n",
    "estimators = ['linreg']\n",
    "\n",
    "poly = PolynomialFeatures(degree = 2,interaction_only=True)\n",
    "poly_Features = False\n",
    "\n",
    "if poly_Features == True:    \n",
    "    X = poly.fit_transform(X)\n",
    "\n",
    "for estimator in estimators:\n",
    "        \n",
    "        \n",
    "        if estimator == 'linreg':\n",
    "            est = LinearRegression(n_jobs=4)\n",
    "        elif estimator == 'sgd':\n",
    "            est = SGDRegressor()\n",
    "        elif estimator == 'ridge':\n",
    "            est = Ridge(alpha=0.4,max_iter=1000)\n",
    "        elif estimator == 'lasso':\n",
    "            est = Lasso(alpha=0.1,max_iter=1000,tol=10000)\n",
    "        elif estimator == 'kn':\n",
    "            est = KNeighborsRegressor(n_neighbors=12,algorithm='kd_tree',weights='distance',leaf_size=45,p=2,n_jobs=4)\n",
    "        elif estimator == 'tree':\n",
    "            est = tree.DecisionTreeRegressor(max_features='auto')\n",
    "        for scaler in scalers:\n",
    "            scaled_X = scales(scaler,X)\n",
    "\n",
    "            model_trains = model_train(scaled_X,y,10,est)\n",
    "\n",
    "\n",
    "            model_scores = model_score(model_trains[0],\n",
    "                                   model_trains[1],\n",
    "                                   model_trains[2],\n",
    "                                   model_trains[3],\n",
    "                                   model_trains[4],\n",
    "                                   model_trains[5],5)\n",
    "            coefficients = list(zip(X.columns,model_scores[5]))\n",
    "            print(f'Model used: {est}\\n'\n",
    "              f'Scaler used: {scaler}\\n'\n",
    "              f'Model scores are:\\n' f'r2_score: {model_scores[0]}\\n' \n",
    "              f'RMSE differece: {model_scores[1]}\\n'\n",
    "              f'Test RMSE: {model_scores[4]}\\n'\n",
    "              f'Train RMSE: {model_scores[3]}\\n'  \n",
    "              f'Cross Val Scores: {model_scores[2]}\\n\\n')\n",
    "              "
   ]
  },
  {
   "cell_type": "code",
   "execution_count": 15,
   "metadata": {},
   "outputs": [
    {
     "data": {
      "text/html": [
       "<div>\n",
       "<style scoped>\n",
       "    .dataframe tbody tr th:only-of-type {\n",
       "        vertical-align: middle;\n",
       "    }\n",
       "\n",
       "    .dataframe tbody tr th {\n",
       "        vertical-align: top;\n",
       "    }\n",
       "\n",
       "    .dataframe thead th {\n",
       "        text-align: right;\n",
       "    }\n",
       "</style>\n",
       "<table border=\"1\" class=\"dataframe\">\n",
       "  <thead>\n",
       "    <tr style=\"text-align: right;\">\n",
       "      <th></th>\n",
       "      <th>0</th>\n",
       "      <th>1</th>\n",
       "    </tr>\n",
       "  </thead>\n",
       "  <tbody>\n",
       "    <tr>\n",
       "      <th>0</th>\n",
       "      <td>bedrooms</td>\n",
       "      <td>-18608.217786</td>\n",
       "    </tr>\n",
       "    <tr>\n",
       "      <th>1</th>\n",
       "      <td>sqft_lot</td>\n",
       "      <td>5759.687838</td>\n",
       "    </tr>\n",
       "    <tr>\n",
       "      <th>2</th>\n",
       "      <td>floors</td>\n",
       "      <td>23320.898199</td>\n",
       "    </tr>\n",
       "    <tr>\n",
       "      <th>3</th>\n",
       "      <td>sqft_above</td>\n",
       "      <td>107409.032630</td>\n",
       "    </tr>\n",
       "    <tr>\n",
       "      <th>4</th>\n",
       "      <td>sqft_basement</td>\n",
       "      <td>55166.332929</td>\n",
       "    </tr>\n",
       "    <tr>\n",
       "      <th>5</th>\n",
       "      <td>yr_built</td>\n",
       "      <td>-52161.892633</td>\n",
       "    </tr>\n",
       "    <tr>\n",
       "      <th>6</th>\n",
       "      <td>lat</td>\n",
       "      <td>68048.516114</td>\n",
       "    </tr>\n",
       "    <tr>\n",
       "      <th>7</th>\n",
       "      <td>long</td>\n",
       "      <td>-54361.976929</td>\n",
       "    </tr>\n",
       "    <tr>\n",
       "      <th>8</th>\n",
       "      <td>sqft_living15</td>\n",
       "      <td>49082.866771</td>\n",
       "    </tr>\n",
       "    <tr>\n",
       "      <th>9</th>\n",
       "      <td>sqft_lot15</td>\n",
       "      <td>-3441.464909</td>\n",
       "    </tr>\n",
       "    <tr>\n",
       "      <th>10</th>\n",
       "      <td>month</td>\n",
       "      <td>-10081.098427</td>\n",
       "    </tr>\n",
       "    <tr>\n",
       "      <th>11</th>\n",
       "      <td>condition_div_grade</td>\n",
       "      <td>-6881.156127</td>\n",
       "    </tr>\n",
       "    <tr>\n",
       "      <th>12</th>\n",
       "      <td>bathrooms_sq</td>\n",
       "      <td>26280.335385</td>\n",
       "    </tr>\n",
       "    <tr>\n",
       "      <th>13</th>\n",
       "      <td>median_by_zip</td>\n",
       "      <td>60581.393761</td>\n",
       "    </tr>\n",
       "    <tr>\n",
       "      <th>14</th>\n",
       "      <td>water_times_grade</td>\n",
       "      <td>11213.102730</td>\n",
       "    </tr>\n",
       "    <tr>\n",
       "      <th>15</th>\n",
       "      <td>view</td>\n",
       "      <td>45346.286221</td>\n",
       "    </tr>\n",
       "    <tr>\n",
       "      <th>16</th>\n",
       "      <td>zipcode</td>\n",
       "      <td>-18240.180566</td>\n",
       "    </tr>\n",
       "    <tr>\n",
       "      <th>17</th>\n",
       "      <td>reno</td>\n",
       "      <td>10182.003700</td>\n",
       "    </tr>\n",
       "  </tbody>\n",
       "</table>\n",
       "</div>"
      ],
      "text/plain": [
       "                      0              1\n",
       "0              bedrooms  -18608.217786\n",
       "1              sqft_lot    5759.687838\n",
       "2                floors   23320.898199\n",
       "3            sqft_above  107409.032630\n",
       "4         sqft_basement   55166.332929\n",
       "5              yr_built  -52161.892633\n",
       "6                   lat   68048.516114\n",
       "7                  long  -54361.976929\n",
       "8         sqft_living15   49082.866771\n",
       "9            sqft_lot15   -3441.464909\n",
       "10                month  -10081.098427\n",
       "11  condition_div_grade   -6881.156127\n",
       "12         bathrooms_sq   26280.335385\n",
       "13        median_by_zip   60581.393761\n",
       "14    water_times_grade   11213.102730\n",
       "15                 view   45346.286221\n",
       "16              zipcode  -18240.180566\n",
       "17                 reno   10182.003700"
      ]
     },
     "execution_count": 15,
     "metadata": {},
     "output_type": "execute_result"
    }
   ],
   "source": [
    "coef_hist = pd.DataFrame(coefficients)\n",
    "coef_hist"
   ]
  },
  {
   "cell_type": "code",
   "execution_count": 16,
   "metadata": {},
   "outputs": [
    {
     "data": {
      "image/png": "[encoded data removed]",
      "text/plain": [
       "<Figure size 1440x360 with 1 Axes>"
      ]
     },
     "metadata": {
      "needs_background": "light"
     },
     "output_type": "display_data"
    }
   ],
   "source": [
    "\n",
    "fig, ax = plt.subplots(figsize=(20,5))\n",
    "\n",
    "len(coef_hist[1].values),len(coef_hist[0].values)\n",
    "\n",
    "y = abs(coef_hist[1].values)\n",
    "labels = coef_hist[0].values\n",
    "ax = sns.barplot(y=y,x=labels)\n",
    "plt.xticks(rotation=45);"
   ]
  },
  {
   "cell_type": "code",
   "execution_count": null,
   "metadata": {},
   "outputs": [],
   "source": []
  },
  {
   "cell_type": "code",
   "execution_count": null,
   "metadata": {},
   "outputs": [],
   "source": []
  },
  {
   "cell_type": "code",
   "execution_count": null,
   "metadata": {},
   "outputs": [],
   "source": []
  },
  {
   "cell_type": "code",
   "execution_count": null,
   "metadata": {},
   "outputs": [],
   "source": []
  },
  {
   "cell_type": "code",
   "execution_count": 17,
   "metadata": {},
   "outputs": [],
   "source": [
    "#kbest\n",
    "# from sklearn.feature_selection import SelectKBest, chi2"
   ]
  },
  {
   "cell_type": "code",
   "execution_count": 18,
   "metadata": {},
   "outputs": [],
   "source": [
    "# df_ohe = pd.get_dummies(df[categoricals])\n",
    "\n",
    "# preprocessed = pd.concat([df_cont, df_ohe],axis=1)\n",
    "\n",
    "\n",
    "\n",
    "# X = preprocessed.drop('price',axis=1)\n",
    "\n",
    "\n",
    "# imp_mean = SimpleImputer(strategy='mean')\n",
    "# imp_mean.fit_transform(X)\n",
    "\n",
    "\n",
    "\n",
    "# scale = StandardScaler()\n",
    "\n",
    "# X = scale.fit_transform(X)\n",
    "\n",
    "# X = pd.DataFrame(X)\n",
    "\n",
    "# y = preprocessed['price']\n",
    "\n",
    "\n",
    "# X_train, X_test, y_train, y_test = train_test_split(X, y, random_state=1)"
   ]
  },
  {
   "cell_type": "code",
   "execution_count": 19,
   "metadata": {},
   "outputs": [],
   "source": [
    "# linreg = LinearRegression()"
   ]
  },
  {
   "cell_type": "code",
   "execution_count": 20,
   "metadata": {},
   "outputs": [],
   "source": [
    "#use the best\n",
    "#non-negative input?\n",
    "#X_best = SelectKBest(chi2, k=10).fit_transform(X_train,y_train)\n"
   ]
  },
  {
   "cell_type": "code",
   "execution_count": null,
   "metadata": {},
   "outputs": [],
   "source": []
  }
 ],
 "metadata": {
  "kernelspec": {
   "display_name": "learn-env",
   "language": "python",
   "name": "learn-env"
  },
  "language_info": {
   "codemirror_mode": {
    "name": "ipython",
    "version": 3
   },
   "file_extension": ".py",
   "mimetype": "text/x-python",
   "name": "python",
   "nbconvert_exporter": "python",
   "pygments_lexer": "ipython3",
   "version": "3.8.5"
  }
 },
 "nbformat": 4,
 "nbformat_minor": 4
}
