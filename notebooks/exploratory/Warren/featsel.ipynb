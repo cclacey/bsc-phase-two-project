{
 "cells": [
  {
   "cell_type": "markdown",
   "metadata": {},
   "source": [
    "### some feature selection\n",
    "\n",
    "### Makin models from all the features\n",
    "\n",
    "I make sure that columns are the right data types and fill nan values with the appropriate values. I also made season and reno columns. season is categorical and contains what season the sale happened in. reno is 1 for has been renovated and 0 for hasn't been renovated. I did a linear regression with and without a polynomial features. I also tried SGD and decision tree. I think that SGD and decision tree aren't better and take a while to run. I'm just gonna stick with the first two. I made an error before loading the other models to the notebook stops running after the polynomial features linear regression."
   ]
  },
  {
   "cell_type": "markdown",
   "metadata": {},
   "source": [
    "### Feature Selection\n",
    "\n",
    "This new model uses some feature selection to pick the best features to use in the model. I also tried imputing missing values and using polynomial features. I didn't expect imputing to do anything because I had already replaced missing values. I don't think that I am using polynomial features correctly and that is why it looks like it isn't doiing anything."
   ]
  },
  {
   "cell_type": "code",
   "execution_count": 1,
   "metadata": {
    "tags": []
   },
   "outputs": [],
   "source": [
    "#Importing packages\n",
    "import pandas as pd\n",
    "import numpy as np\n",
    "import matplotlib.pyplot as plt\n",
    "import seaborn as sns"
   ]
  },
  {
   "cell_type": "markdown",
   "metadata": {},
   "source": [
    "# Column Names and descriptions for Kings County Data Set\n",
    "* **id** - unique identified for a house\n",
    "* **dateDate** - house was sold\n",
    "* **pricePrice** -  is prediction target\n",
    "* **bedroomsNumber** -  of Bedrooms/House\n",
    "* **bathroomsNumber** -  of bathrooms/bedrooms\n",
    "* **sqft_livingsquare** -  footage of the home\n",
    "* **sqft_lotsquare** -  footage of the lot\n",
    "* **floorsTotal** -  floors (levels) in house\n",
    "* **waterfront** - House which has a view to a waterfront\n",
    "* **view** - Has been viewed\n",
    "* **condition** - How good the condition is ( Overall )\n",
    "* **grade** - overall grade given to the housing unit, based on King County grading system\n",
    "* **sqft_above** - square footage of house apart from basement\n",
    "* **sqft_basement** - square footage of the basement\n",
    "* **yr_built** - Built Year\n",
    "* **yr_renovated** - Year when house was renovated\n",
    "* **zipcode** - zip\n",
    "* **lat** - Latitude coordinate\n",
    "* **long** - Longitude coordinate\n",
    "* **sqft_living15** - The square footage of interior housing living space for the nearest 15 neighbors\n",
    "* **sqft_lot15** - The square footage of the land lots of the nearest 15 neighbors\n"
   ]
  },
  {
   "cell_type": "code",
   "execution_count": 2,
   "metadata": {},
   "outputs": [
    {
     "name": "stdout",
     "output_type": "stream",
     "text": [
      "<class 'pandas.core.frame.DataFrame'>\n",
      "Int64Index: 21577 entries, 0 to 21596\n",
      "Data columns (total 30 columns):\n",
      " #   Column                   Non-Null Count  Dtype  \n",
      "---  ------                   --------------  -----  \n",
      " 0   id                       21577 non-null  int64  \n",
      " 1   price                    21577 non-null  float64\n",
      " 2   bedrooms                 21577 non-null  int64  \n",
      " 3   bathrooms                21577 non-null  float64\n",
      " 4   sqft_living              21577 non-null  int64  \n",
      " 5   sqft_lot                 21577 non-null  int64  \n",
      " 6   floors                   21577 non-null  float64\n",
      " 7   waterfront               21577 non-null  float64\n",
      " 8   view                     21577 non-null  float64\n",
      " 9   condition                21577 non-null  int64  \n",
      " 10  grade                    21577 non-null  int64  \n",
      " 11  sqft_above               21577 non-null  int64  \n",
      " 12  sqft_basement            21577 non-null  float64\n",
      " 13  yr_built                 21577 non-null  int64  \n",
      " 14  yr_renovated             21577 non-null  float64\n",
      " 15  zipcode                  21577 non-null  int64  \n",
      " 16  lat                      21577 non-null  float64\n",
      " 17  long                     21577 non-null  float64\n",
      " 18  sqft_living15            21577 non-null  int64  \n",
      " 19  sqft_lot15               21577 non-null  int64  \n",
      " 20  reno                     21577 non-null  int64  \n",
      " 21  price_per_sqft           21577 non-null  float64\n",
      " 22  year                     21577 non-null  float64\n",
      " 23  day                      21577 non-null  float64\n",
      " 24  month                    21577 non-null  float64\n",
      " 25  season                   21577 non-null  object \n",
      " 26  sqft_living_times_grade  21577 non-null  int64  \n",
      " 27  condition_div_grade      21577 non-null  float64\n",
      " 28  sqft_living_sq           21577 non-null  int64  \n",
      " 29  bathrooms_sq             21577 non-null  float64\n",
      "dtypes: float64(15), int64(14), object(1)\n",
      "memory usage: 5.1+ MB\n"
     ]
    }
   ],
   "source": [
    "#read in the cleaned df and set col index\n",
    "df = pd.read_csv('cleaned_df',index_col=0)\n",
    "df.info()"
   ]
  },
  {
   "cell_type": "code",
   "execution_count": 3,
   "metadata": {},
   "outputs": [],
   "source": [
    "#drop id col\n",
    "df.drop('id',axis=1,inplace=True)"
   ]
  },
  {
   "cell_type": "code",
   "execution_count": 4,
   "metadata": {},
   "outputs": [],
   "source": [
    "#import model packages\n",
    "#fir the basic model\n",
    "#for testing\n",
    "from sklearn.model_selection import cross_val_score\n",
    "#adding some more model testing\n",
    "from sklearn.model_selection import KFold\n",
    "#train test split\n",
    "from sklearn.model_selection import train_test_split\n",
    "#scoring\n",
    "#feature elimination\n",
    "from sklearn.feature_selection import RFE\n",
    "#scoring\n",
    "from sklearn.metrics import mean_squared_error\n",
    "#trying some polynomial features\n",
    "\n"
   ]
  },
  {
   "cell_type": "code",
   "execution_count": 5,
   "metadata": {},
   "outputs": [],
   "source": [
    "#defining which values are categorical or not\n",
    "\n",
    "categoricals = ['grade','bedrooms','bathrooms_sq','waterfront','floors','grade','condition','zipcode','season','view']\n",
    "continuous = ['price','sqft_living_sq','sqft_lot','sqft_above','sqft_basement','yr_built','lat','long','reno']\n",
    "\n",
    "df_cont = df[continuous]\n"
   ]
  },
  {
   "cell_type": "code",
   "execution_count": 6,
   "metadata": {},
   "outputs": [],
   "source": [
    "#compare different scalers\n",
    "#im going to make a function to take the output of scalers and git back the score\n",
    "#then do it for multiple scalers"
   ]
  },
  {
   "cell_type": "code",
   "execution_count": 7,
   "metadata": {},
   "outputs": [],
   "source": [
    "#one hot encode the categoricals\n",
    "df_ohe = pd.get_dummies(df[categoricals])\n",
    "#combine the data into one frame\n",
    "preprocessed = pd.concat([df_cont, df_ohe],axis=1)\n",
    "#make feature set by dropping price\n",
    "X = preprocessed.drop('price',axis=1)"
   ]
  },
  {
   "cell_type": "code",
   "execution_count": 8,
   "metadata": {},
   "outputs": [],
   "source": [
    "#scale here\n",
    "def scales(scaler,X):\n",
    "    #suppress warnings\n",
    "    import warnings\n",
    "    \n",
    "    from sklearn.exceptions import DataConversionWarning\n",
    "    \n",
    "    warnings.filterwarnings(action='ignore', category=RuntimeWarning)\n",
    "                        \n",
    "    from sklearn.preprocessing import MinMaxScaler\n",
    "    from sklearn.preprocessing import minmax_scale\n",
    "    from sklearn.preprocessing import MaxAbsScaler\n",
    "    from sklearn.preprocessing import StandardScaler\n",
    "    from sklearn.preprocessing import RobustScaler\n",
    "    from sklearn.preprocessing import Normalizer\n",
    "    from sklearn.preprocessing import QuantileTransformer\n",
    "    from sklearn.preprocessing import PowerTransformer\n",
    "    '''choose which scaler to use. Pass the name and features to scale'''\n",
    "    \n",
    "    if scaler == 'standard':\n",
    "        standard = StandardScaler().fit_transform(X)\n",
    "        choice = standard\n",
    "\n",
    "    elif scaler == 'minmax':\n",
    "        minmax = MinMaxScaler().fit_transform(X)\n",
    "        choice = minmax\n",
    "    elif scaler == 'maxabs':\n",
    "        maxabs = MaxAbsScaler().fit_transform(X)\n",
    "        choice = maxabs\n",
    "    elif scaler == 'robust':\n",
    "        robust = RobustScaler().fit_transform(X)\n",
    "        choice = robust\n",
    "    elif scaler == 'norm':\n",
    "        norm = Normalizer().fit_transform(X)\n",
    "        choice = norm\n",
    "    elif scaler == 'quant':\n",
    "        quant = QuantileTransformer().fit_transform(X)\n",
    "        choice = quant\n",
    "    elif scaler == 'power':\n",
    "        power = PowerTransformer().fit_transform(X)\n",
    "        choice = power\n",
    "        \n",
    "    choice = pd.DataFrame(choice)\n",
    "    return choice"
   ]
  },
  {
   "cell_type": "code",
   "execution_count": 9,
   "metadata": {},
   "outputs": [],
   "source": [
    "\n",
    "#make target set\n",
    "y = preprocessed['price']\n",
    "\n",
    "def model_train(scaled_X,y,n_feats,estimator):\n",
    "\n",
    "    #make train test split\n",
    "    X_train, X_test, y_train, y_test = train_test_split(scaled_X, y, random_state=1)\n",
    "    #ini regression model\n",
    "    #Apply polynomial features\n",
    "    #comment these line out to skip\n",
    "    # X_train = poly.fit_transform(X_train,y_train)\n",
    "    # X_test = poly.fit_transform(X_test,y_test)\n",
    "\n",
    "    #use the best features\n",
    "    #selector = RFE(estimator, n_features_to_select=n_feats, step=1)\n",
    "    \n",
    "    #selector = selector.fit(X_test, y_test)\n",
    "    selector = estimator.fit(X_test, y_test)\n",
    "    \n",
    "    #get predicted values\n",
    "    y_hat_train = selector.predict(X_train)\n",
    "    y_hat_test = selector.predict(X_test)\n",
    "    \n",
    "    return estimator, y_hat_train, y_hat_test, y_train, y_test, X_test, X_train"
   ]
  },
  {
   "cell_type": "code",
   "execution_count": 10,
   "metadata": {},
   "outputs": [
    {
     "name": "stdout",
     "output_type": "stream",
     "text": [
      "There are 21 features\n"
     ]
    }
   ],
   "source": [
    "print(f'There are {len(X.columns)} features')"
   ]
  },
  {
   "cell_type": "code",
   "execution_count": 11,
   "metadata": {},
   "outputs": [],
   "source": [
    "def model_score(estimator,y_hat_train,y_hat_test,y_train,y_test,X_test,X_train,n_splits=5):\n",
    "    from sklearn.metrics import r2_score\n",
    "    #r2 scoring\n",
    "    split_score = r2_score(y_test, y_hat_test)\n",
    "    r2_score = split_score.mean()\n",
    "    #RMSE scoring\n",
    "    RMSE_test = mean_squared_error(y_test,y_hat_test,squared=False)\n",
    "    RMSE_train = mean_squared_error(y_train,y_hat_train,squared=False)\n",
    "    RMSE_diff = abs(RMSE_test - RMSE_train)\n",
    "    # RMSE_test,RMSE_train\n",
    "    #cross val scoring using KFold splits\n",
    "    cv = KFold(n_splits=n_splits,shuffle=True)\n",
    "    cv_score = cross_val_score(estimator,X_test,y_test,scoring='r2',cv=cv)\n",
    "    cv_scores = cv_score.mean()\n",
    "    \n",
    "    return r2_score,RMSE_diff,cv_scores"
   ]
  },
  {
   "cell_type": "code",
   "execution_count": null,
   "metadata": {},
   "outputs": [],
   "source": []
  },
  {
   "cell_type": "code",
   "execution_count": null,
   "metadata": {},
   "outputs": [],
   "source": []
  },
  {
   "cell_type": "code",
   "execution_count": 12,
   "metadata": {},
   "outputs": [
    {
     "name": "stdout",
     "output_type": "stream",
     "text": [
      "Model used: KNeighborsRegressor(n_jobs=4)\n",
      "Scaler used: standard\n",
      "Model scores are:\n",
      "r2_score: 0.8239620638111511\n",
      "RMSE: 37414.654119043495\n",
      "Cross Val Scores: 0.726473736673577\n",
      "\n",
      "\n",
      "Model used: KNeighborsRegressor(n_jobs=4)\n",
      "Scaler used: minmax\n",
      "Model scores are:\n",
      "r2_score: 0.7978853842885811\n",
      "RMSE: 42644.12594811586\n",
      "Cross Val Scores: 0.6783888202864577\n",
      "\n",
      "\n",
      "Model used: KNeighborsRegressor(n_jobs=4)\n",
      "Scaler used: maxabs\n",
      "Model scores are:\n",
      "r2_score: 0.7268117660011668\n",
      "RMSE: 48452.68651834907\n",
      "Cross Val Scores: 0.5778869467349403\n",
      "\n",
      "\n",
      "Model used: KNeighborsRegressor(n_jobs=4)\n",
      "Scaler used: robust\n",
      "Model scores are:\n",
      "r2_score: 0.8104790187061088\n",
      "RMSE: 32801.33371006296\n",
      "Cross Val Scores: 0.7046931730362939\n",
      "\n",
      "\n",
      "Model used: KNeighborsRegressor(n_jobs=4)\n",
      "Scaler used: norm\n",
      "Model scores are:\n",
      "r2_score: 0.6397990692971451\n",
      "RMSE: 45865.072607086826\n",
      "Cross Val Scores: 0.43337319465748453\n",
      "\n",
      "\n",
      "Model used: KNeighborsRegressor(n_jobs=4)\n",
      "Scaler used: quant\n",
      "Model scores are:\n",
      "r2_score: 0.7830452643491077\n",
      "RMSE: 47739.45540369337\n",
      "Cross Val Scores: 0.6627925772936056\n",
      "\n",
      "\n",
      "Model used: KNeighborsRegressor(n_jobs=4)\n",
      "Scaler used: power\n",
      "Model scores are:\n",
      "r2_score: 0.8063500625747662\n",
      "RMSE: 42764.5200826927\n",
      "Cross Val Scores: 0.7032275873489201\n",
      "\n",
      "\n",
      "Model used: DecisionTreeRegressor(max_depth=30, max_features='log2')\n",
      "Scaler used: standard\n",
      "Model scores are:\n",
      "r2_score: 0.9999982354648114\n",
      "RMSE: 225266.78592928124\n",
      "Cross Val Scores: 0.5897411744097367\n",
      "\n",
      "\n",
      "Model used: DecisionTreeRegressor(max_depth=30, max_features='log2')\n",
      "Scaler used: minmax\n",
      "Model scores are:\n",
      "r2_score: 0.9999981572582657\n",
      "RMSE: 199433.83014455606\n",
      "Cross Val Scores: 0.582534850300511\n",
      "\n",
      "\n",
      "Model used: DecisionTreeRegressor(max_depth=30, max_features='log2')\n",
      "Scaler used: maxabs\n",
      "Model scores are:\n",
      "r2_score: 0.9999970951531117\n",
      "RMSE: 215161.60505181694\n",
      "Cross Val Scores: 0.6050632828246276\n",
      "\n",
      "\n",
      "Model used: DecisionTreeRegressor(max_depth=30, max_features='log2')\n",
      "Scaler used: robust\n",
      "Model scores are:\n",
      "r2_score: 0.9999982354648114\n",
      "RMSE: 215503.90603840892\n",
      "Cross Val Scores: 0.6301191551036002\n",
      "\n",
      "\n",
      "Model used: DecisionTreeRegressor(max_depth=30, max_features='log2')\n",
      "Scaler used: norm\n",
      "Model scores are:\n",
      "r2_score: 0.8447332356286469\n",
      "RMSE: 152006.60914996135\n",
      "Cross Val Scores: 0.3074473221485802\n",
      "\n",
      "\n",
      "Model used: DecisionTreeRegressor(max_depth=30, max_features='log2')\n",
      "Scaler used: quant\n",
      "Model scores are:\n",
      "r2_score: 0.9999982354648114\n",
      "RMSE: 214374.25940897514\n",
      "Cross Val Scores: 0.5860101528855168\n",
      "\n",
      "\n",
      "Model used: DecisionTreeRegressor(max_depth=30, max_features='log2')\n",
      "Scaler used: power\n",
      "Model scores are:\n",
      "r2_score: 0.9999981812416063\n",
      "RMSE: 214739.86692062163\n",
      "Cross Val Scores: 0.5284415822245926\n",
      "\n",
      "\n"
     ]
    }
   ],
   "source": [
    "from sklearn.linear_model import LinearRegression\n",
    "from sklearn.linear_model import SGDRegressor\n",
    "from sklearn.preprocessing import PolynomialFeatures\n",
    "#set to degree 2, 3 is too slow\n",
    "from sklearn.linear_model import Ridge\n",
    "from sklearn.linear_model import Lasso\n",
    "from sklearn.neighbors import KNeighborsRegressor\n",
    "from sklearn import tree\n",
    "\n",
    "scalers = ['standard','minmax','maxabs','robust','norm','quant','power']\n",
    "estimators = ['kn','tree']\n",
    "\n",
    "poly = PolynomialFeatures(degree = 2,interaction_only=True)\n",
    "poly_Features = False\n",
    "\n",
    "if poly_Features == True:    \n",
    "    X = poly.fit_transform(X)\n",
    "\n",
    "for estimator in estimators:\n",
    "        \n",
    "        \n",
    "        if estimator == 'linreg':\n",
    "            est = LinearRegression(n_jobs=4)\n",
    "        elif estimator == 'sgd':\n",
    "            est = SGDRegressor()\n",
    "        elif estimator == 'ridge':\n",
    "            est = Ridge(alpha=0.4,max_iter=1000)\n",
    "        elif estimator == 'lasso':\n",
    "            est = Lasso(alpha=0.1,max_iter=1000,tol=10000)\n",
    "        elif estimator == 'kn':\n",
    "            est = KNeighborsRegressor(n_neighbors=5,leaf_size=30,p=2,n_jobs=4)\n",
    "        elif estimator == 'tree':\n",
    "            est = tree.DecisionTreeRegressor(max_depth=10,max_features='log2')\n",
    "        for scaler in scalers:\n",
    "            scaled_X = scales(scaler,X)\n",
    "\n",
    "            model_trains = model_train(scaled_X,y,10,est)\n",
    "\n",
    "\n",
    "            model_scores = model_score(model_trains[0],\n",
    "                                   model_trains[1],\n",
    "                                   model_trains[2],\n",
    "                                   model_trains[3],\n",
    "                                   model_trains[4],\n",
    "                                   model_trains[5],5)\n",
    "\n",
    "            print(f'Model used: {est}\\n'\n",
    "              f'Scaler used: {scaler}\\n'\n",
    "              f'Model scores are:\\n' f'r2_score: {model_scores[0]}\\n' \n",
    "              f'RMSE: {model_scores[1]}\\n' \n",
    "              f'Cross Val Scores: {model_scores[2]}\\n\\n')"
   ]
  },
  {
   "cell_type": "code",
   "execution_count": null,
   "metadata": {},
   "outputs": [],
   "source": []
  },
  {
   "cell_type": "code",
   "execution_count": null,
   "metadata": {},
   "outputs": [],
   "source": []
  },
  {
   "cell_type": "code",
   "execution_count": null,
   "metadata": {},
   "outputs": [],
   "source": []
  },
  {
   "cell_type": "code",
   "execution_count": null,
   "metadata": {},
   "outputs": [],
   "source": []
  },
  {
   "cell_type": "code",
   "execution_count": null,
   "metadata": {},
   "outputs": [],
   "source": []
  },
  {
   "cell_type": "code",
   "execution_count": 13,
   "metadata": {},
   "outputs": [
    {
     "ename": "NameError",
     "evalue": "name 'y_train' is not defined",
     "output_type": "error",
     "traceback": [
      "\u001b[1;31m---------------------------------------------------------------------------\u001b[0m",
      "\u001b[1;31mNameError\u001b[0m                                 Traceback (most recent call last)",
      "\u001b[1;32m<ipython-input-13-391f8a352953>\u001b[0m in \u001b[0;36m<module>\u001b[1;34m\u001b[0m\n\u001b[0;32m      2\u001b[0m \u001b[1;31m#don't really know what this is saying\u001b[0m\u001b[1;33m\u001b[0m\u001b[1;33m\u001b[0m\u001b[1;33m\u001b[0m\u001b[0m\n\u001b[0;32m      3\u001b[0m \u001b[0mplt\u001b[0m\u001b[1;33m.\u001b[0m\u001b[0mfigure\u001b[0m\u001b[1;33m(\u001b[0m\u001b[0mfigsize\u001b[0m\u001b[1;33m=\u001b[0m\u001b[1;33m(\u001b[0m\u001b[1;36m8\u001b[0m\u001b[1;33m,\u001b[0m \u001b[1;36m5\u001b[0m\u001b[1;33m)\u001b[0m\u001b[1;33m)\u001b[0m\u001b[1;33m\u001b[0m\u001b[1;33m\u001b[0m\u001b[0m\n\u001b[1;32m----> 4\u001b[1;33m \u001b[0mplt\u001b[0m\u001b[1;33m.\u001b[0m\u001b[0mscatter\u001b[0m\u001b[1;33m(\u001b[0m\u001b[0my_train\u001b[0m\u001b[1;33m,\u001b[0m \u001b[0my_hat_train\u001b[0m\u001b[1;33m,\u001b[0m \u001b[0mlabel\u001b[0m\u001b[1;33m=\u001b[0m\u001b[1;34m'Actual Data'\u001b[0m\u001b[1;33m,\u001b[0m\u001b[0malpha\u001b[0m \u001b[1;33m=\u001b[0m \u001b[1;36m0.3\u001b[0m\u001b[1;33m)\u001b[0m\u001b[1;33m\u001b[0m\u001b[1;33m\u001b[0m\u001b[0m\n\u001b[0m\u001b[0;32m      5\u001b[0m \u001b[0mplt\u001b[0m\u001b[1;33m.\u001b[0m\u001b[0mscatter\u001b[0m\u001b[1;33m(\u001b[0m\u001b[0my_test\u001b[0m\u001b[1;33m,\u001b[0m \u001b[0my_hat_test\u001b[0m\u001b[1;33m,\u001b[0m \u001b[0mlabel\u001b[0m\u001b[1;33m=\u001b[0m\u001b[1;34m'Model'\u001b[0m\u001b[1;33m,\u001b[0m\u001b[0malpha\u001b[0m \u001b[1;33m=\u001b[0m \u001b[1;36m0.2\u001b[0m\u001b[1;33m,\u001b[0m\u001b[0mc\u001b[0m\u001b[1;33m=\u001b[0m\u001b[1;34m'r'\u001b[0m\u001b[1;33m)\u001b[0m\u001b[1;33m\u001b[0m\u001b[1;33m\u001b[0m\u001b[0m\n\u001b[0;32m      6\u001b[0m \u001b[0mplt\u001b[0m\u001b[1;33m.\u001b[0m\u001b[0mtitle\u001b[0m\u001b[1;33m(\u001b[0m\u001b[1;34m'BaselineLinReg Performance Plot'\u001b[0m\u001b[1;33m)\u001b[0m\u001b[1;33m\u001b[0m\u001b[1;33m\u001b[0m\u001b[0m\n",
      "\u001b[1;31mNameError\u001b[0m: name 'y_train' is not defined"
     ]
    },
    {
     "data": {
      "text/plain": [
       "<Figure size 576x360 with 0 Axes>"
      ]
     },
     "metadata": {},
     "output_type": "display_data"
    }
   ],
   "source": [
    "#plotting the model?\n",
    "#don't really know what this is saying\n",
    "plt.figure(figsize=(8, 5))\n",
    "plt.scatter(y_train, y_hat_train, label='Actual Data',alpha = 0.3)\n",
    "plt.scatter(y_test, y_hat_test, label='Model',alpha = 0.2,c='r')\n",
    "plt.title('BaselineLinReg Performance Plot')\n",
    "plt.legend();"
   ]
  },
  {
   "cell_type": "code",
   "execution_count": null,
   "metadata": {},
   "outputs": [],
   "source": [
    "#kbest\n",
    "# from sklearn.feature_selection import SelectKBest, chi2"
   ]
  },
  {
   "cell_type": "code",
   "execution_count": null,
   "metadata": {},
   "outputs": [],
   "source": [
    "# df_ohe = pd.get_dummies(df[categoricals])\n",
    "\n",
    "# preprocessed = pd.concat([df_cont, df_ohe],axis=1)\n",
    "\n",
    "\n",
    "\n",
    "# X = preprocessed.drop('price',axis=1)\n",
    "\n",
    "\n",
    "# imp_mean = SimpleImputer(strategy='mean')\n",
    "# imp_mean.fit_transform(X)\n",
    "\n",
    "\n",
    "\n",
    "# scale = StandardScaler()\n",
    "\n",
    "# X = scale.fit_transform(X)\n",
    "\n",
    "# X = pd.DataFrame(X)\n",
    "\n",
    "# y = preprocessed['price']\n",
    "\n",
    "\n",
    "# X_train, X_test, y_train, y_test = train_test_split(X, y, random_state=1)"
   ]
  },
  {
   "cell_type": "code",
   "execution_count": null,
   "metadata": {},
   "outputs": [],
   "source": [
    "# linreg = LinearRegression()"
   ]
  },
  {
   "cell_type": "code",
   "execution_count": null,
   "metadata": {},
   "outputs": [],
   "source": [
    "#use the best\n",
    "#non-negative input?\n",
    "#X_best = SelectKBest(chi2, k=10).fit_transform(X_train,y_train)\n"
   ]
  },
  {
   "cell_type": "code",
   "execution_count": null,
   "metadata": {},
   "outputs": [],
   "source": []
  }
 ],
 "metadata": {
  "kernelspec": {
   "display_name": "learn-env",
   "language": "python",
   "name": "learn-env"
  },
  "language_info": {
   "codemirror_mode": {
    "name": "ipython",
    "version": 3
   },
   "file_extension": ".py",
   "mimetype": "text/x-python",
   "name": "python",
   "nbconvert_exporter": "python",
   "pygments_lexer": "ipython3",
   "version": "3.8.5"
  }
 },
 "nbformat": 4,
 "nbformat_minor": 4
}
