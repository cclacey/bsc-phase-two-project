{
 "cells": [
  {
   "cell_type": "code",
   "execution_count": null,
   "metadata": {},
   "outputs": [],
   "source": []
  },
  {
   "cell_type": "code",
   "execution_count": 1,
   "metadata": {
    "tags": []
   },
   "outputs": [],
   "source": [
    "#Importing packages\n",
    "import pandas as pd\n",
    "import numpy as np\n",
    "import matplotlib.pyplot as plt\n",
    "import seaborn as sns"
   ]
  },
  {
   "cell_type": "markdown",
   "metadata": {},
   "source": [
    "# Column Names and descriptions for Kings County Data Set\n",
    "* **id** - unique identified for a house\n",
    "* **dateDate** - house was sold\n",
    "* **pricePrice** -  is prediction target\n",
    "* **bedroomsNumber** -  of Bedrooms/House\n",
    "* **bathroomsNumber** -  of bathrooms/bedrooms\n",
    "* **sqft_livingsquare** -  footage of the home\n",
    "* **sqft_lotsquare** -  footage of the lot\n",
    "* **floorsTotal** -  floors (levels) in house\n",
    "* **waterfront** - House which has a view to a waterfront\n",
    "* **view** - Has been viewed\n",
    "* **condition** - How good the condition is ( Overall )\n",
    "* **grade** - overall grade given to the housing unit, based on King County grading system\n",
    "* **sqft_above** - square footage of house apart from basement\n",
    "* **sqft_basement** - square footage of the basement\n",
    "* **yr_built** - Built Year\n",
    "* **yr_renovated** - Year when house was renovated\n",
    "* **zipcode** - zip\n",
    "* **lat** - Latitude coordinate\n",
    "* **long** - Longitude coordinate\n",
    "* **sqft_living15** - The square footage of interior housing living space for the nearest 15 neighbors\n",
    "* **sqft_lot15** - The square footage of the land lots of the nearest 15 neighbors\n"
   ]
  },
  {
   "cell_type": "code",
   "execution_count": 2,
   "metadata": {},
   "outputs": [
    {
     "name": "stdout",
     "output_type": "stream",
     "text": [
      "<class 'pandas.core.frame.DataFrame'>\n",
      "Int64Index: 21577 entries, 0 to 21596\n",
      "Data columns (total 1 columns):\n",
      " #   Column      Non-Null Count  Dtype  \n",
      "---  ------      --------------  -----  \n",
      " 0   Closest_WF  21577 non-null  float64\n",
      "dtypes: float64(1)\n",
      "memory usage: 337.1 KB\n"
     ]
    }
   ],
   "source": [
    "#read in the cleaned df and set col index\n",
    "df = pd.read_csv('cleaned_df',index_col=0)\n",
    "df_med = pd.read_csv('mediandf.csv',index_col=0)\n",
    "df_wf = pd.read_csv('Closest_WF',index_col=0)\n",
    "df_wf.info()"
   ]
  },
  {
   "cell_type": "code",
   "execution_count": 3,
   "metadata": {},
   "outputs": [],
   "source": [
    "# drop_rows = df['price'].sort_values(ascending=False)[:300]\n",
    "# df.drop(drop_rows.index,axis=0,inplace=True)\n",
    "\n",
    "\n",
    "# [('long', 'Closest_WF', 0.783), \n",
    "#  ('yr_built', 'sqft_living15', 0.777),\n"
   ]
  },
  {
   "cell_type": "code",
   "execution_count": 4,
   "metadata": {},
   "outputs": [],
   "source": [
    "#drop id col\n",
    "\n",
    "df.drop('id',axis=1,inplace=True)\n",
    "df = df.join(df_med)\n",
    "df = df.join(df_wf)\n",
    "#waterfront time grade\n"
   ]
  },
  {
   "cell_type": "code",
   "execution_count": 5,
   "metadata": {},
   "outputs": [],
   "source": [
    "df.columns\n",
    "\n",
    "df['long_times_WF_sq'] = df['long'] * df['Closest_WF']\n",
    "df['yr_built_times_grade'] = df['yr_built'] * df['grade']\n",
    "df['water_times_grade'] = df['waterfront'] * df['grade']\n",
    "\n"
   ]
  },
  {
   "cell_type": "code",
   "execution_count": 6,
   "metadata": {},
   "outputs": [],
   "source": [
    "#import model packages\n",
    "#fir the basic model\n",
    "#for testing\n",
    "from sklearn.model_selection import cross_val_score\n",
    "#adding some more model testing\n",
    "from sklearn.model_selection import KFold\n",
    "#train test split\n",
    "from sklearn.model_selection import train_test_split\n",
    "#scoring\n",
    "#feature elimination\n",
    "from sklearn.feature_selection import RFE\n",
    "#scoring\n",
    "from sklearn.metrics import mean_squared_error\n",
    "#trying some polynomial features\n",
    "\n"
   ]
  },
  {
   "cell_type": "code",
   "execution_count": 7,
   "metadata": {},
   "outputs": [],
   "source": [
    "#defining which values are categorical or not\n",
    "#'bedrooms','floors','condition','zipcode','season','view'\n",
    "categoricals = ['bedrooms','waterfront','floors','view','condition','zipcode','reno','season']\n",
    "\n",
    "continuous = ['price','sqft_living','sqft_lot','sqft_above','sqft_basement','yr_renovated','lat',\n",
    "              'sqft_living15','sqft_lot15','year','day','month','sqft_living_times_grade','condition_div_grade',\n",
    "              'sqft_living_sq','bathrooms_sq','median_by_zip','water_times_grade','long_times_WF_sq','yr_built_times_grade']\n",
    "\n",
    "df_cont = df[continuous]\n"
   ]
  },
  {
   "cell_type": "code",
   "execution_count": 8,
   "metadata": {},
   "outputs": [],
   "source": [
    "#compare different scalers\n",
    "#im going to make a function to take the output of scalers and git back the score\n",
    "#then do it for multiple scalers"
   ]
  },
  {
   "cell_type": "code",
   "execution_count": 9,
   "metadata": {},
   "outputs": [],
   "source": [
    "#one hot encode the categoricals\n",
    "df_ohe = pd.get_dummies(df[categoricals])\n",
    "#combine the data into one frame\n",
    "preprocessed = pd.concat([df_cont, df_ohe],axis=1)\n",
    "#make feature set by dropping price\n",
    "X = preprocessed.drop('price',axis=1)"
   ]
  },
  {
   "cell_type": "code",
   "execution_count": 10,
   "metadata": {},
   "outputs": [],
   "source": [
    "#scale here\n",
    "def scales(scaler,X):\n",
    "    #suppress warnings\n",
    "    import warnings\n",
    "    \n",
    "    from sklearn.exceptions import DataConversionWarning\n",
    "    \n",
    "    warnings.filterwarnings(action='ignore', category=RuntimeWarning)\n",
    "                        \n",
    "    from sklearn.preprocessing import MinMaxScaler\n",
    "    from sklearn.preprocessing import minmax_scale\n",
    "    from sklearn.preprocessing import MaxAbsScaler\n",
    "    from sklearn.preprocessing import StandardScaler\n",
    "    from sklearn.preprocessing import RobustScaler\n",
    "    from sklearn.preprocessing import Normalizer\n",
    "    from sklearn.preprocessing import QuantileTransformer\n",
    "    from sklearn.preprocessing import PowerTransformer\n",
    "    '''choose which scaler to use. Pass the name and features to scale'''\n",
    "    \n",
    "    if scaler == 'standard':\n",
    "        standard = StandardScaler().fit_transform(X)\n",
    "        choice = standard\n",
    "\n",
    "    elif scaler == 'minmax':\n",
    "        minmax = MinMaxScaler().fit_transform(X)\n",
    "        choice = minmax\n",
    "    elif scaler == 'maxabs':\n",
    "        maxabs = MaxAbsScaler().fit_transform(X)\n",
    "        choice = maxabs\n",
    "    elif scaler == 'robust':\n",
    "        robust = RobustScaler().fit_transform(X)\n",
    "        choice = robust\n",
    "    elif scaler == 'norm':\n",
    "        norm = Normalizer().fit_transform(X)\n",
    "        choice = norm\n",
    "    elif scaler == 'quant':\n",
    "        quant = QuantileTransformer().fit_transform(X)\n",
    "        choice = quant\n",
    "    elif scaler == 'power':\n",
    "        power = PowerTransformer().fit_transform(X)\n",
    "        choice = power\n",
    "    elif scaler == 'none':\n",
    "        choice = X\n",
    "        \n",
    "    choice = pd.DataFrame(choice)\n",
    "    return choice"
   ]
  },
  {
   "cell_type": "code",
   "execution_count": 11,
   "metadata": {},
   "outputs": [],
   "source": [
    "\n",
    "#make target set\n",
    "y = preprocessed['price']\n",
    "\n",
    "def model_train(scaled_X,y,n_feats,estimator):\n",
    "\n",
    "    #make train test split\n",
    "    X_train, X_test, y_train, y_test = train_test_split(scaled_X, y, random_state=2)\n",
    "    #ini regression model\n",
    "    #Apply polynomial features\n",
    "    #comment these line out to skip\n",
    "#     X_train = poly.fit_transform(X_train,y_train)\n",
    "#     X_test = poly.fit_transform(X_test,y_test)\n",
    "\n",
    "    #use the best features\n",
    "    #selector = RFE(estimator, n_features_to_select=10, step=1)\n",
    "    \n",
    "    #estimator = selector.fit(X_test, y_test)\n",
    "    estimator = estimator.fit(X_test, y_test)\n",
    "    #get predicted values\n",
    "    \n",
    "    \n",
    "    return estimator, y_train, y_test, X_test, X_train"
   ]
  },
  {
   "cell_type": "code",
   "execution_count": null,
   "metadata": {},
   "outputs": [],
   "source": []
  },
  {
   "cell_type": "code",
   "execution_count": 12,
   "metadata": {},
   "outputs": [],
   "source": [
    "def model_score(estimator,y_train,y_test,X_test,X_train,n_splits=5):\n",
    "    '''Takes estimator, y_train, y_test, X_test, X_train, n_splits\n",
    "        n_splits is optional'''\n",
    "    \n",
    "    \n",
    "    from sklearn.metrics import r2_score\n",
    "    \n",
    "    y_hat_train = estimator.predict(X_train)\n",
    "    y_hat_test = estimator.predict(X_test)\n",
    "    \n",
    "    \n",
    "    \n",
    "    \n",
    "    #r2 scoring\n",
    "    split_score = r2_score(y_test, y_hat_test)\n",
    "    r2_score = split_score.mean()\n",
    "    #RMSE scoring\n",
    "    RMSE_test = mean_squared_error(y_test,y_hat_test,squared=False)\n",
    "    RMSE_train = mean_squared_error(y_train,y_hat_train,squared=False)\n",
    "    RMSE_diff = abs(RMSE_test - RMSE_train)\n",
    "    # RMSE_test,RMSE_train\n",
    "    #cross val scoring using KFold splits\n",
    "    cv = KFold(n_splits=n_splits,shuffle=True)\n",
    "    cv_score = cross_val_score(estimator,X_test,y_test,scoring='r2',cv=cv)\n",
    "    cv_scores = cv_score.mean()\n",
    "    \n",
    "    #plot here\n",
    "#     coefs = estimator.coef_\n",
    "    \n",
    "    \n",
    "    \n",
    "    \n",
    "    return round(r2_score,3),round(RMSE_diff,3),round(cv_scores,3),round(RMSE_test,3),round(RMSE_train,3)"
   ]
  },
  {
   "cell_type": "code",
   "execution_count": null,
   "metadata": {},
   "outputs": [],
   "source": []
  },
  {
   "cell_type": "code",
   "execution_count": 13,
   "metadata": {},
   "outputs": [
    {
     "name": "stdout",
     "output_type": "stream",
     "text": [
      "There are 30 features to choose from\n"
     ]
    }
   ],
   "source": [
    "print(f'There are {len(X.columns)} features to choose from')"
   ]
  },
  {
   "cell_type": "code",
   "execution_count": 28,
   "metadata": {},
   "outputs": [],
   "source": [
    "from sklearn.linear_model import LinearRegression\n",
    "from sklearn.linear_model import SGDRegressor\n",
    "from sklearn.preprocessing import PolynomialFeatures\n",
    "#set to degree 2, 3 is too slow\n",
    "from sklearn.linear_model import Ridge\n",
    "from sklearn.linear_model import Lasso\n",
    "from sklearn.neighbors import KNeighborsRegressor\n",
    "from sklearn import tree\n",
    "\n",
    "#'none',standard','minmax','maxabs','robust','norm','quant','power'\n",
    "\n",
    "def get_scores(X=X):\n",
    "\n",
    "    scalers = ['standard']\n",
    "    estimators = ['linreg']\n",
    "\n",
    "    poly = PolynomialFeatures(degree = 2,interaction_only=True)\n",
    "    poly_Features = False\n",
    "\n",
    "    if poly_Features == True:    \n",
    "        X = poly.fit_transform(X)\n",
    "\n",
    "    for estimator in estimators:\n",
    "            \n",
    "            if estimator == 'linreg':\n",
    "                est = LinearRegression(n_jobs=4)\n",
    "            elif estimator == 'sgd':\n",
    "                est = SGDRegressor()\n",
    "            elif estimator == 'ridge':\n",
    "                est = Ridge(alpha=0.4,max_iter=1000)\n",
    "            elif estimator == 'lasso':\n",
    "                est = Lasso(alpha=0.1,max_iter=1000,tol=10000)\n",
    "            elif estimator == 'kn':\n",
    "                est = KNeighborsRegressor(n_neighbors=20,n_jobs=4)\n",
    "            elif estimator == 'tree':\n",
    "                est = tree.DecisionTreeRegressor()\n",
    "            for scaler in scalers:\n",
    "                scaled_X = scales(scaler,X)\n",
    "\n",
    "                model_trains = model_train(scaled_X,y,10,est)\n",
    "                estimator = model_trains[0]\n",
    "                y_train = model_trains[1]\n",
    "                y_test = model_trains[2]\n",
    "                X_test = model_trains[3]\n",
    "                X_train = model_trains[4]\n",
    "\n",
    "                #round(r2_score,3),round(RMSE_diff,3),round(cv_scores,3),round(RMSE_test,3),round(RMSE_train,3),coefs\n",
    "\n",
    "                r2_score, RMSE_diff, cv_score, RMSE_test, RMSE_train = model_score(estimator,\n",
    "                                       y_train,\n",
    "                                       y_test,\n",
    "                                       X_test,\n",
    "                                       X_train,\n",
    "                                       5)\n",
    "\n",
    "                print(f'Model used: {est}\\n'\n",
    "                      f'Scaler used: {scaler}\\n'\n",
    "                      f'Model scores are:\\n' f'r2_score: {r2_score}\\n' \n",
    "                      f'RMSE differece: {RMSE_diff}\\n'\n",
    "                      f'Test RMSE: {RMSE_test}\\n'\n",
    "                      f'Train RMSE: {RMSE_train}\\n'  \n",
    "                      f'Cross Val Scores: {cv_score}\\n\\n')\n",
    "                \n",
    "                \n",
    "    return estimator,scaler,r2_score, RMSE_diff, cv_score, RMSE_test, RMSE_train\n"
   ]
  },
  {
   "cell_type": "code",
   "execution_count": 29,
   "metadata": {},
   "outputs": [
    {
     "name": "stdout",
     "output_type": "stream",
     "text": [
      "Model used: LinearRegression(n_jobs=4)\n",
      "Scaler used: standard\n",
      "Model scores are:\n",
      "r2_score: 0.772\n",
      "RMSE differece: 11082.904\n",
      "Test RMSE: 159658.383\n",
      "Train RMSE: 170741.287\n",
      "Cross Val Scores: 0.766\n",
      "\n",
      "\n"
     ]
    },
    {
     "data": {
      "text/plain": [
       "(LinearRegression(n_jobs=4),\n",
       " 'standard',\n",
       " 0.772,\n",
       " 11082.904,\n",
       " 0.766,\n",
       " 159658.383,\n",
       " 170741.287)"
      ]
     },
     "execution_count": 29,
     "metadata": {},
     "output_type": "execute_result"
    }
   ],
   "source": [
    "get_scores()"
   ]
  },
  {
   "cell_type": "code",
   "execution_count": null,
   "metadata": {},
   "outputs": [],
   "source": []
  },
  {
   "cell_type": "code",
   "execution_count": null,
   "metadata": {},
   "outputs": [],
   "source": []
  },
  {
   "cell_type": "code",
   "execution_count": null,
   "metadata": {},
   "outputs": [],
   "source": []
  },
  {
   "cell_type": "code",
   "execution_count": null,
   "metadata": {},
   "outputs": [],
   "source": []
  },
  {
   "cell_type": "code",
   "execution_count": null,
   "metadata": {},
   "outputs": [],
   "source": []
  },
  {
   "cell_type": "code",
   "execution_count": null,
   "metadata": {},
   "outputs": [],
   "source": []
  },
  {
   "cell_type": "code",
   "execution_count": null,
   "metadata": {},
   "outputs": [],
   "source": []
  },
  {
   "cell_type": "code",
   "execution_count": null,
   "metadata": {},
   "outputs": [],
   "source": []
  }
 ],
 "metadata": {
  "kernelspec": {
   "display_name": "learn-env",
   "language": "python",
   "name": "learn-env"
  },
  "language_info": {
   "codemirror_mode": {
    "name": "ipython",
    "version": 3
   },
   "file_extension": ".py",
   "mimetype": "text/x-python",
   "name": "python",
   "nbconvert_exporter": "python",
   "pygments_lexer": "ipython3",
   "version": "3.8.5"
  }
 },
 "nbformat": 4,
 "nbformat_minor": 4
}
