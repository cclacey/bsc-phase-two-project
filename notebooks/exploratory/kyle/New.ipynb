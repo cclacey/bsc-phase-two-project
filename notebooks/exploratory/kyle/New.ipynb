{
 "metadata": {
  "language_info": {
   "codemirror_mode": {
    "name": "ipython",
    "version": 3
   },
   "file_extension": ".py",
   "mimetype": "text/x-python",
   "name": "python",
   "nbconvert_exporter": "python",
   "pygments_lexer": "ipython3",
   "version": "3.8.5"
  },
  "orig_nbformat": 4,
  "kernelspec": {
   "name": "learn-env",
   "display_name": "Python 3.8.5 64-bit ('learn-env': conda)"
  }
 },
 "nbformat": 4,
 "nbformat_minor": 2,
 "cells": [
  {
   "cell_type": "code",
   "execution_count": 22,
   "metadata": {},
   "outputs": [],
   "source": [
    "import pandas as pd\n",
    "import numpy as np\n",
    "import matplotlib.pyplot as plt\n",
    "import seaborn as sns\n",
    "from sklearn.linear_model import LinearRegression\n",
    "from sklearn.model_selection import train_test_split\n",
    "from sklearn.impute import SimpleImputer\n",
    "from sklearn.preprocessing import StandardScaler\n",
    "from sklearn.metrics import mean_squared_error \n",
    "%matplotlib inline\n",
    "\n",
    "\n",
    "from scipy.stats import norm\n",
    "from scipy import stats"
   ]
  },
  {
   "cell_type": "code",
   "execution_count": 5,
   "metadata": {},
   "outputs": [
    {
     "output_type": "execute_result",
     "data": {
      "text/plain": [
       "               id     price  bedrooms  bathrooms  sqft_living  sqft_lot  \\\n",
       "0      7129300520  221900.0         3       1.00         1180      5650   \n",
       "1      6414100192  538000.0         3       2.25         2570      7242   \n",
       "2      5631500400  180000.0         2       1.00          770     10000   \n",
       "3      2487200875  604000.0         4       3.00         1960      5000   \n",
       "4      1954400510  510000.0         3       2.00         1680      8080   \n",
       "...           ...       ...       ...        ...          ...       ...   \n",
       "21592   263000018  360000.0         3       2.50         1530      1131   \n",
       "21593  6600060120  400000.0         4       2.50         2310      5813   \n",
       "21594  1523300141  402101.0         2       0.75         1020      1350   \n",
       "21595   291310100  400000.0         3       2.50         1600      2388   \n",
       "21596  1523300157  325000.0         2       0.75         1020      1076   \n",
       "\n",
       "       floors  waterfront  view  condition  ...  reno  price_per_sqft    year  \\\n",
       "0         1.0         0.0   0.0          3  ...     0      188.050847  2014.0   \n",
       "1         2.0         0.0   0.0          3  ...     1      209.338521  2014.0   \n",
       "2         1.0         0.0   0.0          3  ...     0      233.766234  2015.0   \n",
       "3         1.0         0.0   0.0          5  ...     0      308.163265  2014.0   \n",
       "4         1.0         0.0   0.0          3  ...     0      303.571429  2015.0   \n",
       "...       ...         ...   ...        ...  ...   ...             ...     ...   \n",
       "21592     3.0         0.0   0.0          3  ...     0      235.294118  2014.0   \n",
       "21593     2.0         0.0   0.0          3  ...     0      173.160173  2015.0   \n",
       "21594     2.0         0.0   0.0          3  ...     0      394.216667  2014.0   \n",
       "21595     2.0         0.0   0.0          3  ...     0      250.000000  2015.0   \n",
       "21596     2.0         0.0   0.0          3  ...     0      318.627451  2014.0   \n",
       "\n",
       "        day  month  season  sqft_living_times_grade  condition_div_grade  \\\n",
       "0      13.0   10.0    fall                     8260             0.428571   \n",
       "1       9.0   12.0  winter                    17990             0.428571   \n",
       "2      25.0    2.0  winter                     4620             0.500000   \n",
       "3       9.0   12.0  winter                    13720             0.714286   \n",
       "4      18.0    2.0  winter                    13440             0.375000   \n",
       "...     ...    ...     ...                      ...                  ...   \n",
       "21592  21.0    5.0  spring                    12240             0.375000   \n",
       "21593  23.0    2.0  winter                    18480             0.375000   \n",
       "21594  23.0    6.0  summer                     7140             0.428571   \n",
       "21595  16.0    1.0  winter                    12800             0.375000   \n",
       "21596  15.0   10.0    fall                     7140             0.428571   \n",
       "\n",
       "       sqft_living_sq  bathrooms_sq  \n",
       "0             1392400        1.0000  \n",
       "1             6604900        5.0625  \n",
       "2              592900        1.0000  \n",
       "3             3841600        9.0000  \n",
       "4             2822400        4.0000  \n",
       "...               ...           ...  \n",
       "21592         2340900        6.2500  \n",
       "21593         5336100        6.2500  \n",
       "21594         1040400        0.5625  \n",
       "21595         2560000        6.2500  \n",
       "21596         1040400        0.5625  \n",
       "\n",
       "[21577 rows x 30 columns]"
      ],
      "text/html": "<div>\n<style scoped>\n    .dataframe tbody tr th:only-of-type {\n        vertical-align: middle;\n    }\n\n    .dataframe tbody tr th {\n        vertical-align: top;\n    }\n\n    .dataframe thead th {\n        text-align: right;\n    }\n</style>\n<table border=\"1\" class=\"dataframe\">\n  <thead>\n    <tr style=\"text-align: right;\">\n      <th></th>\n      <th>id</th>\n      <th>price</th>\n      <th>bedrooms</th>\n      <th>bathrooms</th>\n      <th>sqft_living</th>\n      <th>sqft_lot</th>\n      <th>floors</th>\n      <th>waterfront</th>\n      <th>view</th>\n      <th>condition</th>\n      <th>...</th>\n      <th>reno</th>\n      <th>price_per_sqft</th>\n      <th>year</th>\n      <th>day</th>\n      <th>month</th>\n      <th>season</th>\n      <th>sqft_living_times_grade</th>\n      <th>condition_div_grade</th>\n      <th>sqft_living_sq</th>\n      <th>bathrooms_sq</th>\n    </tr>\n  </thead>\n  <tbody>\n    <tr>\n      <th>0</th>\n      <td>7129300520</td>\n      <td>221900.0</td>\n      <td>3</td>\n      <td>1.00</td>\n      <td>1180</td>\n      <td>5650</td>\n      <td>1.0</td>\n      <td>0.0</td>\n      <td>0.0</td>\n      <td>3</td>\n      <td>...</td>\n      <td>0</td>\n      <td>188.050847</td>\n      <td>2014.0</td>\n      <td>13.0</td>\n      <td>10.0</td>\n      <td>fall</td>\n      <td>8260</td>\n      <td>0.428571</td>\n      <td>1392400</td>\n      <td>1.0000</td>\n    </tr>\n    <tr>\n      <th>1</th>\n      <td>6414100192</td>\n      <td>538000.0</td>\n      <td>3</td>\n      <td>2.25</td>\n      <td>2570</td>\n      <td>7242</td>\n      <td>2.0</td>\n      <td>0.0</td>\n      <td>0.0</td>\n      <td>3</td>\n      <td>...</td>\n      <td>1</td>\n      <td>209.338521</td>\n      <td>2014.0</td>\n      <td>9.0</td>\n      <td>12.0</td>\n      <td>winter</td>\n      <td>17990</td>\n      <td>0.428571</td>\n      <td>6604900</td>\n      <td>5.0625</td>\n    </tr>\n    <tr>\n      <th>2</th>\n      <td>5631500400</td>\n      <td>180000.0</td>\n      <td>2</td>\n      <td>1.00</td>\n      <td>770</td>\n      <td>10000</td>\n      <td>1.0</td>\n      <td>0.0</td>\n      <td>0.0</td>\n      <td>3</td>\n      <td>...</td>\n      <td>0</td>\n      <td>233.766234</td>\n      <td>2015.0</td>\n      <td>25.0</td>\n      <td>2.0</td>\n      <td>winter</td>\n      <td>4620</td>\n      <td>0.500000</td>\n      <td>592900</td>\n      <td>1.0000</td>\n    </tr>\n    <tr>\n      <th>3</th>\n      <td>2487200875</td>\n      <td>604000.0</td>\n      <td>4</td>\n      <td>3.00</td>\n      <td>1960</td>\n      <td>5000</td>\n      <td>1.0</td>\n      <td>0.0</td>\n      <td>0.0</td>\n      <td>5</td>\n      <td>...</td>\n      <td>0</td>\n      <td>308.163265</td>\n      <td>2014.0</td>\n      <td>9.0</td>\n      <td>12.0</td>\n      <td>winter</td>\n      <td>13720</td>\n      <td>0.714286</td>\n      <td>3841600</td>\n      <td>9.0000</td>\n    </tr>\n    <tr>\n      <th>4</th>\n      <td>1954400510</td>\n      <td>510000.0</td>\n      <td>3</td>\n      <td>2.00</td>\n      <td>1680</td>\n      <td>8080</td>\n      <td>1.0</td>\n      <td>0.0</td>\n      <td>0.0</td>\n      <td>3</td>\n      <td>...</td>\n      <td>0</td>\n      <td>303.571429</td>\n      <td>2015.0</td>\n      <td>18.0</td>\n      <td>2.0</td>\n      <td>winter</td>\n      <td>13440</td>\n      <td>0.375000</td>\n      <td>2822400</td>\n      <td>4.0000</td>\n    </tr>\n    <tr>\n      <th>...</th>\n      <td>...</td>\n      <td>...</td>\n      <td>...</td>\n      <td>...</td>\n      <td>...</td>\n      <td>...</td>\n      <td>...</td>\n      <td>...</td>\n      <td>...</td>\n      <td>...</td>\n      <td>...</td>\n      <td>...</td>\n      <td>...</td>\n      <td>...</td>\n      <td>...</td>\n      <td>...</td>\n      <td>...</td>\n      <td>...</td>\n      <td>...</td>\n      <td>...</td>\n      <td>...</td>\n    </tr>\n    <tr>\n      <th>21592</th>\n      <td>263000018</td>\n      <td>360000.0</td>\n      <td>3</td>\n      <td>2.50</td>\n      <td>1530</td>\n      <td>1131</td>\n      <td>3.0</td>\n      <td>0.0</td>\n      <td>0.0</td>\n      <td>3</td>\n      <td>...</td>\n      <td>0</td>\n      <td>235.294118</td>\n      <td>2014.0</td>\n      <td>21.0</td>\n      <td>5.0</td>\n      <td>spring</td>\n      <td>12240</td>\n      <td>0.375000</td>\n      <td>2340900</td>\n      <td>6.2500</td>\n    </tr>\n    <tr>\n      <th>21593</th>\n      <td>6600060120</td>\n      <td>400000.0</td>\n      <td>4</td>\n      <td>2.50</td>\n      <td>2310</td>\n      <td>5813</td>\n      <td>2.0</td>\n      <td>0.0</td>\n      <td>0.0</td>\n      <td>3</td>\n      <td>...</td>\n      <td>0</td>\n      <td>173.160173</td>\n      <td>2015.0</td>\n      <td>23.0</td>\n      <td>2.0</td>\n      <td>winter</td>\n      <td>18480</td>\n      <td>0.375000</td>\n      <td>5336100</td>\n      <td>6.2500</td>\n    </tr>\n    <tr>\n      <th>21594</th>\n      <td>1523300141</td>\n      <td>402101.0</td>\n      <td>2</td>\n      <td>0.75</td>\n      <td>1020</td>\n      <td>1350</td>\n      <td>2.0</td>\n      <td>0.0</td>\n      <td>0.0</td>\n      <td>3</td>\n      <td>...</td>\n      <td>0</td>\n      <td>394.216667</td>\n      <td>2014.0</td>\n      <td>23.0</td>\n      <td>6.0</td>\n      <td>summer</td>\n      <td>7140</td>\n      <td>0.428571</td>\n      <td>1040400</td>\n      <td>0.5625</td>\n    </tr>\n    <tr>\n      <th>21595</th>\n      <td>291310100</td>\n      <td>400000.0</td>\n      <td>3</td>\n      <td>2.50</td>\n      <td>1600</td>\n      <td>2388</td>\n      <td>2.0</td>\n      <td>0.0</td>\n      <td>0.0</td>\n      <td>3</td>\n      <td>...</td>\n      <td>0</td>\n      <td>250.000000</td>\n      <td>2015.0</td>\n      <td>16.0</td>\n      <td>1.0</td>\n      <td>winter</td>\n      <td>12800</td>\n      <td>0.375000</td>\n      <td>2560000</td>\n      <td>6.2500</td>\n    </tr>\n    <tr>\n      <th>21596</th>\n      <td>1523300157</td>\n      <td>325000.0</td>\n      <td>2</td>\n      <td>0.75</td>\n      <td>1020</td>\n      <td>1076</td>\n      <td>2.0</td>\n      <td>0.0</td>\n      <td>0.0</td>\n      <td>3</td>\n      <td>...</td>\n      <td>0</td>\n      <td>318.627451</td>\n      <td>2014.0</td>\n      <td>15.0</td>\n      <td>10.0</td>\n      <td>fall</td>\n      <td>7140</td>\n      <td>0.428571</td>\n      <td>1040400</td>\n      <td>0.5625</td>\n    </tr>\n  </tbody>\n</table>\n<p>21577 rows × 30 columns</p>\n</div>"
     },
     "metadata": {},
     "execution_count": 5
    }
   ],
   "source": [
    "path = '../Warren/cleaned_df'\n",
    "df = pd.read_csv(path, index_col=0)\n",
    "df"
   ]
  },
  {
   "cell_type": "code",
   "execution_count": 6,
   "metadata": {},
   "outputs": [],
   "source": [
    "df.drop('id', axis=1, inplace=True)"
   ]
  },
  {
   "cell_type": "code",
   "execution_count": 7,
   "metadata": {},
   "outputs": [
    {
     "output_type": "execute_result",
     "data": {
      "text/plain": [
       "          price  bedrooms  bathrooms  sqft_living  sqft_lot  floors  \\\n",
       "0      221900.0         3       1.00         1180      5650     1.0   \n",
       "1      538000.0         3       2.25         2570      7242     2.0   \n",
       "2      180000.0         2       1.00          770     10000     1.0   \n",
       "3      604000.0         4       3.00         1960      5000     1.0   \n",
       "4      510000.0         3       2.00         1680      8080     1.0   \n",
       "...         ...       ...        ...          ...       ...     ...   \n",
       "21592  360000.0         3       2.50         1530      1131     3.0   \n",
       "21593  400000.0         4       2.50         2310      5813     2.0   \n",
       "21594  402101.0         2       0.75         1020      1350     2.0   \n",
       "21595  400000.0         3       2.50         1600      2388     2.0   \n",
       "21596  325000.0         2       0.75         1020      1076     2.0   \n",
       "\n",
       "       waterfront  view  condition  grade  ...  reno  price_per_sqft    year  \\\n",
       "0             0.0   0.0          3      7  ...     0      188.050847  2014.0   \n",
       "1             0.0   0.0          3      7  ...     1      209.338521  2014.0   \n",
       "2             0.0   0.0          3      6  ...     0      233.766234  2015.0   \n",
       "3             0.0   0.0          5      7  ...     0      308.163265  2014.0   \n",
       "4             0.0   0.0          3      8  ...     0      303.571429  2015.0   \n",
       "...           ...   ...        ...    ...  ...   ...             ...     ...   \n",
       "21592         0.0   0.0          3      8  ...     0      235.294118  2014.0   \n",
       "21593         0.0   0.0          3      8  ...     0      173.160173  2015.0   \n",
       "21594         0.0   0.0          3      7  ...     0      394.216667  2014.0   \n",
       "21595         0.0   0.0          3      8  ...     0      250.000000  2015.0   \n",
       "21596         0.0   0.0          3      7  ...     0      318.627451  2014.0   \n",
       "\n",
       "        day  month  season  sqft_living_times_grade  condition_div_grade  \\\n",
       "0      13.0   10.0    fall                     8260             0.428571   \n",
       "1       9.0   12.0  winter                    17990             0.428571   \n",
       "2      25.0    2.0  winter                     4620             0.500000   \n",
       "3       9.0   12.0  winter                    13720             0.714286   \n",
       "4      18.0    2.0  winter                    13440             0.375000   \n",
       "...     ...    ...     ...                      ...                  ...   \n",
       "21592  21.0    5.0  spring                    12240             0.375000   \n",
       "21593  23.0    2.0  winter                    18480             0.375000   \n",
       "21594  23.0    6.0  summer                     7140             0.428571   \n",
       "21595  16.0    1.0  winter                    12800             0.375000   \n",
       "21596  15.0   10.0    fall                     7140             0.428571   \n",
       "\n",
       "       sqft_living_sq  bathrooms_sq  \n",
       "0             1392400        1.0000  \n",
       "1             6604900        5.0625  \n",
       "2              592900        1.0000  \n",
       "3             3841600        9.0000  \n",
       "4             2822400        4.0000  \n",
       "...               ...           ...  \n",
       "21592         2340900        6.2500  \n",
       "21593         5336100        6.2500  \n",
       "21594         1040400        0.5625  \n",
       "21595         2560000        6.2500  \n",
       "21596         1040400        0.5625  \n",
       "\n",
       "[21577 rows x 29 columns]"
      ],
      "text/html": "<div>\n<style scoped>\n    .dataframe tbody tr th:only-of-type {\n        vertical-align: middle;\n    }\n\n    .dataframe tbody tr th {\n        vertical-align: top;\n    }\n\n    .dataframe thead th {\n        text-align: right;\n    }\n</style>\n<table border=\"1\" class=\"dataframe\">\n  <thead>\n    <tr style=\"text-align: right;\">\n      <th></th>\n      <th>price</th>\n      <th>bedrooms</th>\n      <th>bathrooms</th>\n      <th>sqft_living</th>\n      <th>sqft_lot</th>\n      <th>floors</th>\n      <th>waterfront</th>\n      <th>view</th>\n      <th>condition</th>\n      <th>grade</th>\n      <th>...</th>\n      <th>reno</th>\n      <th>price_per_sqft</th>\n      <th>year</th>\n      <th>day</th>\n      <th>month</th>\n      <th>season</th>\n      <th>sqft_living_times_grade</th>\n      <th>condition_div_grade</th>\n      <th>sqft_living_sq</th>\n      <th>bathrooms_sq</th>\n    </tr>\n  </thead>\n  <tbody>\n    <tr>\n      <th>0</th>\n      <td>221900.0</td>\n      <td>3</td>\n      <td>1.00</td>\n      <td>1180</td>\n      <td>5650</td>\n      <td>1.0</td>\n      <td>0.0</td>\n      <td>0.0</td>\n      <td>3</td>\n      <td>7</td>\n      <td>...</td>\n      <td>0</td>\n      <td>188.050847</td>\n      <td>2014.0</td>\n      <td>13.0</td>\n      <td>10.0</td>\n      <td>fall</td>\n      <td>8260</td>\n      <td>0.428571</td>\n      <td>1392400</td>\n      <td>1.0000</td>\n    </tr>\n    <tr>\n      <th>1</th>\n      <td>538000.0</td>\n      <td>3</td>\n      <td>2.25</td>\n      <td>2570</td>\n      <td>7242</td>\n      <td>2.0</td>\n      <td>0.0</td>\n      <td>0.0</td>\n      <td>3</td>\n      <td>7</td>\n      <td>...</td>\n      <td>1</td>\n      <td>209.338521</td>\n      <td>2014.0</td>\n      <td>9.0</td>\n      <td>12.0</td>\n      <td>winter</td>\n      <td>17990</td>\n      <td>0.428571</td>\n      <td>6604900</td>\n      <td>5.0625</td>\n    </tr>\n    <tr>\n      <th>2</th>\n      <td>180000.0</td>\n      <td>2</td>\n      <td>1.00</td>\n      <td>770</td>\n      <td>10000</td>\n      <td>1.0</td>\n      <td>0.0</td>\n      <td>0.0</td>\n      <td>3</td>\n      <td>6</td>\n      <td>...</td>\n      <td>0</td>\n      <td>233.766234</td>\n      <td>2015.0</td>\n      <td>25.0</td>\n      <td>2.0</td>\n      <td>winter</td>\n      <td>4620</td>\n      <td>0.500000</td>\n      <td>592900</td>\n      <td>1.0000</td>\n    </tr>\n    <tr>\n      <th>3</th>\n      <td>604000.0</td>\n      <td>4</td>\n      <td>3.00</td>\n      <td>1960</td>\n      <td>5000</td>\n      <td>1.0</td>\n      <td>0.0</td>\n      <td>0.0</td>\n      <td>5</td>\n      <td>7</td>\n      <td>...</td>\n      <td>0</td>\n      <td>308.163265</td>\n      <td>2014.0</td>\n      <td>9.0</td>\n      <td>12.0</td>\n      <td>winter</td>\n      <td>13720</td>\n      <td>0.714286</td>\n      <td>3841600</td>\n      <td>9.0000</td>\n    </tr>\n    <tr>\n      <th>4</th>\n      <td>510000.0</td>\n      <td>3</td>\n      <td>2.00</td>\n      <td>1680</td>\n      <td>8080</td>\n      <td>1.0</td>\n      <td>0.0</td>\n      <td>0.0</td>\n      <td>3</td>\n      <td>8</td>\n      <td>...</td>\n      <td>0</td>\n      <td>303.571429</td>\n      <td>2015.0</td>\n      <td>18.0</td>\n      <td>2.0</td>\n      <td>winter</td>\n      <td>13440</td>\n      <td>0.375000</td>\n      <td>2822400</td>\n      <td>4.0000</td>\n    </tr>\n    <tr>\n      <th>...</th>\n      <td>...</td>\n      <td>...</td>\n      <td>...</td>\n      <td>...</td>\n      <td>...</td>\n      <td>...</td>\n      <td>...</td>\n      <td>...</td>\n      <td>...</td>\n      <td>...</td>\n      <td>...</td>\n      <td>...</td>\n      <td>...</td>\n      <td>...</td>\n      <td>...</td>\n      <td>...</td>\n      <td>...</td>\n      <td>...</td>\n      <td>...</td>\n      <td>...</td>\n      <td>...</td>\n    </tr>\n    <tr>\n      <th>21592</th>\n      <td>360000.0</td>\n      <td>3</td>\n      <td>2.50</td>\n      <td>1530</td>\n      <td>1131</td>\n      <td>3.0</td>\n      <td>0.0</td>\n      <td>0.0</td>\n      <td>3</td>\n      <td>8</td>\n      <td>...</td>\n      <td>0</td>\n      <td>235.294118</td>\n      <td>2014.0</td>\n      <td>21.0</td>\n      <td>5.0</td>\n      <td>spring</td>\n      <td>12240</td>\n      <td>0.375000</td>\n      <td>2340900</td>\n      <td>6.2500</td>\n    </tr>\n    <tr>\n      <th>21593</th>\n      <td>400000.0</td>\n      <td>4</td>\n      <td>2.50</td>\n      <td>2310</td>\n      <td>5813</td>\n      <td>2.0</td>\n      <td>0.0</td>\n      <td>0.0</td>\n      <td>3</td>\n      <td>8</td>\n      <td>...</td>\n      <td>0</td>\n      <td>173.160173</td>\n      <td>2015.0</td>\n      <td>23.0</td>\n      <td>2.0</td>\n      <td>winter</td>\n      <td>18480</td>\n      <td>0.375000</td>\n      <td>5336100</td>\n      <td>6.2500</td>\n    </tr>\n    <tr>\n      <th>21594</th>\n      <td>402101.0</td>\n      <td>2</td>\n      <td>0.75</td>\n      <td>1020</td>\n      <td>1350</td>\n      <td>2.0</td>\n      <td>0.0</td>\n      <td>0.0</td>\n      <td>3</td>\n      <td>7</td>\n      <td>...</td>\n      <td>0</td>\n      <td>394.216667</td>\n      <td>2014.0</td>\n      <td>23.0</td>\n      <td>6.0</td>\n      <td>summer</td>\n      <td>7140</td>\n      <td>0.428571</td>\n      <td>1040400</td>\n      <td>0.5625</td>\n    </tr>\n    <tr>\n      <th>21595</th>\n      <td>400000.0</td>\n      <td>3</td>\n      <td>2.50</td>\n      <td>1600</td>\n      <td>2388</td>\n      <td>2.0</td>\n      <td>0.0</td>\n      <td>0.0</td>\n      <td>3</td>\n      <td>8</td>\n      <td>...</td>\n      <td>0</td>\n      <td>250.000000</td>\n      <td>2015.0</td>\n      <td>16.0</td>\n      <td>1.0</td>\n      <td>winter</td>\n      <td>12800</td>\n      <td>0.375000</td>\n      <td>2560000</td>\n      <td>6.2500</td>\n    </tr>\n    <tr>\n      <th>21596</th>\n      <td>325000.0</td>\n      <td>2</td>\n      <td>0.75</td>\n      <td>1020</td>\n      <td>1076</td>\n      <td>2.0</td>\n      <td>0.0</td>\n      <td>0.0</td>\n      <td>3</td>\n      <td>7</td>\n      <td>...</td>\n      <td>0</td>\n      <td>318.627451</td>\n      <td>2014.0</td>\n      <td>15.0</td>\n      <td>10.0</td>\n      <td>fall</td>\n      <td>7140</td>\n      <td>0.428571</td>\n      <td>1040400</td>\n      <td>0.5625</td>\n    </tr>\n  </tbody>\n</table>\n<p>21577 rows × 29 columns</p>\n</div>"
     },
     "metadata": {},
     "execution_count": 7
    }
   ],
   "source": [
    "df"
   ]
  },
  {
   "cell_type": "code",
   "execution_count": 13,
   "metadata": {},
   "outputs": [],
   "source": [
    "df1 = df.drop('price', axis =1)"
   ]
  },
  {
   "cell_type": "code",
   "execution_count": 16,
   "metadata": {},
   "outputs": [],
   "source": [
    "categoricals = ['bedrooms','bathrooms','waterfront','floors','view','grade','condition','zipcode']\n",
    "continuous = ['price','sqft_living_sq','sqft_lot','sqft_above','sqft_basement','yr_built','lat','long','sqft_living15','sqft_lot15','month','year','yr_renovated']\n",
    "\n",
    "df_cont = df[continuous]\n"
   ]
  },
  {
   "cell_type": "code",
   "execution_count": 17,
   "metadata": {},
   "outputs": [],
   "source": [
    "df_ohe = pd.get_dummies(df[categoricals])\n",
    "\n",
    "preprocessed = pd.concat([df_cont, df_ohe],axis=1)\n",
    "\n",
    "\n",
    "\n",
    "X = preprocessed.drop('price',axis=1)\n",
    "\n",
    "\n",
    "imp_mean = SimpleImputer(missing_values = np.nan, strategy='mean')\n",
    "imp_mean.fit_transform(X)\n",
    "\n",
    "\n",
    "\n",
    "scale = StandardScaler()\n",
    "\n",
    "X = scale.fit_transform(X)\n",
    "\n",
    "X = pd.DataFrame(X)\n",
    "\n",
    "y = preprocessed['price']\n",
    "\n",
    "\n",
    "X_train, X_test, y_train, y_test = train_test_split(X, y, random_state=42)"
   ]
  },
  {
   "cell_type": "code",
   "execution_count": 20,
   "metadata": {},
   "outputs": [],
   "source": [
    "from sklearn.preprocessing import PolynomialFeatures\n",
    "poly = PolynomialFeatures(degree = 2,interaction_only=True)\n",
    "X_train = poly.fit_transform(X_train,y_train)\n",
    "X_test = poly.fit_transform(X_test,y_test)"
   ]
  },
  {
   "cell_type": "code",
   "execution_count": 23,
   "metadata": {},
   "outputs": [
    {
     "output_type": "stream",
     "name": "stdout",
     "text": [
      "Train Mean Squarred Error: 23123790404.88203\nTest Mean Squarred Error: 22916180486.287655\nTrain score: 0.8051098650805394\nTest score: 0.7984374004498346\n"
     ]
    }
   ],
   "source": [
    "#instantiate and fit \n",
    "mlr_split = LinearRegression()\n",
    "\n",
    "#fit\n",
    "mlr_split.fit(X_train, y_train)\n",
    "\n",
    "# calculate predictions on training and test sets\n",
    "y_hat_train = mlr_split.predict(X_train)\n",
    "y_hat_test = mlr_split.predict(X_test)\n",
    "\n",
    "#compare MSE for the predicted training and test values \n",
    "train_mse = mean_squared_error(y_train, y_hat_train)\n",
    "test_mse = mean_squared_error(y_test, y_hat_test)\n",
    "print('Train Mean Squarred Error:', train_mse)\n",
    "print('Test Mean Squarred Error:', test_mse)\n",
    "\n",
    "print('Train score:', mlr_split.score(X_train, y_train))\n",
    "print('Test score:', mlr_split.score(X_test, y_test))\n"
   ]
  },
  {
   "cell_type": "code",
   "execution_count": null,
   "metadata": {},
   "outputs": [],
   "source": []
  }
 ]
}