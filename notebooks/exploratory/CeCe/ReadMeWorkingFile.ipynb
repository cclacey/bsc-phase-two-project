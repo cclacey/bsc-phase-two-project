{
 "cells": [
  {
   "cell_type": "markdown",
   "metadata": {},
   "source": [
    "<img src=\"KingCounty.jpeg\">"
   ]
  },
  {
   "cell_type": "markdown",
   "metadata": {},
   "source": [
    "*CRISP DM - Cross-Industry Standard Process for Data Mining*\n",
    "1. Business Understanding\n",
    "2. Data Understanding\n",
    "3. Data Preparations\n",
    "4. Modeling\n",
    "5. Evaluations\n",
    "6. Deployment\n"
   ]
  },
  {
   "cell_type": "markdown",
   "metadata": {},
   "source": [
    "# Overview"
   ]
  },
  {
   "cell_type": "markdown",
   "metadata": {},
   "source": [
    "This project dives into a slice of the King County, Washington real estate market. We seek to use linear regression to build a predictive model that will best predict sale price of a house for our clients. We looked at a variety of ranging from location, phyiscal atributes of the home, residential building grades, proximity to Whole Foods, and median household income. We found many features that contributed to our model producing more accurate predictions. We found the X and Y had the largest impact on our model. Additionally by manipulating these features, they also were very impactful... Next steps for us would be to gather some additional census data to give us more continuous data for income levels in each neighborhood. "
   ]
  },
  {
   "cell_type": "markdown",
   "metadata": {},
   "source": [
    "# Business Problem"
   ]
  },
  {
   "cell_type": "markdown",
   "metadata": {},
   "source": [
    "We have been hired by a Seattle based Real Estate Brokerage to build a model that will help them accurately price their clients' homes to sell. "
   ]
  },
  {
   "cell_type": "markdown",
   "metadata": {},
   "source": [
    "# Data"
   ]
  },
  {
   "cell_type": "markdown",
   "metadata": {},
   "source": [
    "We used 3 data sources for this project.\n",
    "1. Housing data on about 21,000 homes in King County that was given to us\n",
    "2. Whole Foods location data found on Kaggle\n",
    "3. Median income by zip code obtained from  IPUMS' (Integrated Public Use Microdata Series) National Historic Geographic Information System"
   ]
  },
  {
   "cell_type": "markdown",
   "metadata": {},
   "source": [
    "# Methods"
   ]
  },
  {
   "cell_type": "markdown",
   "metadata": {},
   "source": [
    "- EDA \n",
    "- Initial Modeling - First model - basic process of picking out features, why isn't it great\n",
    "- Feature Engineering - final modeling in this other notebook\n",
    "- Scaling"
   ]
  },
  {
   "cell_type": "markdown",
   "metadata": {},
   "source": [
    "# Results"
   ]
  },
  {
   "cell_type": "markdown",
   "metadata": {},
   "source": []
  },
  {
   "cell_type": "markdown",
   "metadata": {},
   "source": [
    "# Next Steps"
   ]
  },
  {
   "cell_type": "markdown",
   "metadata": {},
   "source": []
  },
  {
   "cell_type": "markdown",
   "metadata": {},
   "source": [
    "# Conclusion"
   ]
  },
  {
   "cell_type": "markdown",
   "metadata": {},
   "source": []
  },
  {
   "cell_type": "markdown",
   "metadata": {},
   "source": []
  },
  {
   "cell_type": "markdown",
   "metadata": {},
   "source": []
  },
  {
   "cell_type": "markdown",
   "metadata": {},
   "source": []
  }
 ],
 "metadata": {
  "kernelspec": {
   "display_name": "learn-env",
   "language": "python",
   "name": "learn-env"
  },
  "language_info": {
   "codemirror_mode": {
    "name": "ipython",
    "version": 3
   },
   "file_extension": ".py",
   "mimetype": "text/x-python",
   "name": "python",
   "nbconvert_exporter": "python",
   "pygments_lexer": "ipython3",
   "version": "3.8.5"
  },
  "toc": {
   "base_numbering": 1,
   "nav_menu": {},
   "number_sections": true,
   "sideBar": true,
   "skip_h1_title": false,
   "title_cell": "Table of Contents",
   "title_sidebar": "Contents",
   "toc_cell": false,
   "toc_position": {},
   "toc_section_display": true,
   "toc_window_display": false
  }
 },
 "nbformat": 4,
 "nbformat_minor": 4
}
