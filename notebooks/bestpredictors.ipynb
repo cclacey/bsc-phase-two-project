{
 "cells": [
  {
   "cell_type": "markdown",
   "metadata": {},
   "source": [
    "I was trying out the best predictors here. This set of features is not the final set. Featsel contains the final model."
   ]
  },
  {
   "cell_type": "code",
   "execution_count": 1,
   "metadata": {
    "tags": []
   },
   "outputs": [],
   "source": [
    "#Importing packages\n",
    "import pandas as pd\n",
    "import numpy as np\n",
    "import matplotlib.pyplot as plt\n",
    "import seaborn as sns"
   ]
  },
  {
   "cell_type": "markdown",
   "metadata": {},
   "source": [
    "# Column Names and descriptions for Kings County Data Set\n",
    "* **id** - unique identified for a house\n",
    "* **dateDate** - house was sold\n",
    "* **pricePrice** -  is prediction target\n",
    "* **bedroomsNumber** -  of Bedrooms/House\n",
    "* **bathroomsNumber** -  of bathrooms/bedrooms\n",
    "* **sqft_livingsquare** -  footage of the home\n",
    "* **sqft_lotsquare** -  footage of the lot\n",
    "* **floorsTotal** -  floors (levels) in house\n",
    "* **waterfront** - House which has a view to a waterfront\n",
    "* **view** - Has been viewed\n",
    "* **condition** - How good the condition is ( Overall )\n",
    "* **grade** - overall grade given to the housing unit, based on King County grading system\n",
    "* **sqft_above** - square footage of house apart from basement\n",
    "* **sqft_basement** - square footage of the basement\n",
    "* **yr_built** - Built Year\n",
    "* **yr_renovated** - Year when house was renovated\n",
    "* **zipcode** - zip\n",
    "* **lat** - Latitude coordinate\n",
    "* **long** - Longitude coordinate\n",
    "* **sqft_living15** - The square footage of interior housing living space for the nearest 15 neighbors\n",
    "* **sqft_lot15** - The square footage of the land lots of the nearest 15 neighbors\n"
   ]
  },
  {
   "cell_type": "markdown",
   "metadata": {},
   "source": [
    "Reading in all of the datasets and then joining them"
   ]
  },
  {
   "cell_type": "code",
   "execution_count": 2,
   "metadata": {},
   "outputs": [
    {
     "ename": "FileNotFoundError",
     "evalue": "[Errno 2] No such file or directory: '../data/mediandf.csv'",
     "output_type": "error",
     "traceback": [
      "\u001b[1;31m---------------------------------------------------------------------------\u001b[0m",
      "\u001b[1;31mFileNotFoundError\u001b[0m                         Traceback (most recent call last)",
      "\u001b[1;32m<ipython-input-2-b3621b6d1187>\u001b[0m in \u001b[0;36m<module>\u001b[1;34m\u001b[0m\n\u001b[0;32m      1\u001b[0m \u001b[1;31m#read in the cleaned df and set col index\u001b[0m\u001b[1;33m\u001b[0m\u001b[1;33m\u001b[0m\u001b[1;33m\u001b[0m\u001b[0m\n\u001b[0;32m      2\u001b[0m \u001b[0mdf\u001b[0m \u001b[1;33m=\u001b[0m \u001b[0mpd\u001b[0m\u001b[1;33m.\u001b[0m\u001b[0mread_csv\u001b[0m\u001b[1;33m(\u001b[0m\u001b[1;34m'../data/cleaned_df'\u001b[0m\u001b[1;33m,\u001b[0m\u001b[0mindex_col\u001b[0m\u001b[1;33m=\u001b[0m\u001b[1;36m0\u001b[0m\u001b[1;33m)\u001b[0m\u001b[1;33m\u001b[0m\u001b[1;33m\u001b[0m\u001b[0m\n\u001b[1;32m----> 3\u001b[1;33m \u001b[0mdf_med\u001b[0m \u001b[1;33m=\u001b[0m \u001b[0mpd\u001b[0m\u001b[1;33m.\u001b[0m\u001b[0mread_csv\u001b[0m\u001b[1;33m(\u001b[0m\u001b[1;34m'../data/mediandf.csv'\u001b[0m\u001b[1;33m,\u001b[0m\u001b[0mindex_col\u001b[0m\u001b[1;33m=\u001b[0m\u001b[1;36m0\u001b[0m\u001b[1;33m)\u001b[0m\u001b[1;33m\u001b[0m\u001b[1;33m\u001b[0m\u001b[0m\n\u001b[0m\u001b[0;32m      4\u001b[0m \u001b[0mdf_wf\u001b[0m \u001b[1;33m=\u001b[0m \u001b[0mpd\u001b[0m\u001b[1;33m.\u001b[0m\u001b[0mread_csv\u001b[0m\u001b[1;33m(\u001b[0m\u001b[1;34m'../data/Closest_WF'\u001b[0m\u001b[1;33m,\u001b[0m\u001b[0mindex_col\u001b[0m\u001b[1;33m=\u001b[0m\u001b[1;36m0\u001b[0m\u001b[1;33m)\u001b[0m\u001b[1;33m\u001b[0m\u001b[1;33m\u001b[0m\u001b[0m\n\u001b[0;32m      5\u001b[0m \u001b[0mdf_wf\u001b[0m\u001b[1;33m.\u001b[0m\u001b[0minfo\u001b[0m\u001b[1;33m(\u001b[0m\u001b[1;33m)\u001b[0m\u001b[1;33m\u001b[0m\u001b[1;33m\u001b[0m\u001b[0m\n",
      "\u001b[1;32m~\\anaconda3\\envs\\learn-env\\lib\\site-packages\\pandas\\io\\parsers.py\u001b[0m in \u001b[0;36mread_csv\u001b[1;34m(filepath_or_buffer, sep, delimiter, header, names, index_col, usecols, squeeze, prefix, mangle_dupe_cols, dtype, engine, converters, true_values, false_values, skipinitialspace, skiprows, skipfooter, nrows, na_values, keep_default_na, na_filter, verbose, skip_blank_lines, parse_dates, infer_datetime_format, keep_date_col, date_parser, dayfirst, cache_dates, iterator, chunksize, compression, thousands, decimal, lineterminator, quotechar, quoting, doublequote, escapechar, comment, encoding, dialect, error_bad_lines, warn_bad_lines, delim_whitespace, low_memory, memory_map, float_precision)\u001b[0m\n\u001b[0;32m    684\u001b[0m     )\n\u001b[0;32m    685\u001b[0m \u001b[1;33m\u001b[0m\u001b[0m\n\u001b[1;32m--> 686\u001b[1;33m     \u001b[1;32mreturn\u001b[0m \u001b[0m_read\u001b[0m\u001b[1;33m(\u001b[0m\u001b[0mfilepath_or_buffer\u001b[0m\u001b[1;33m,\u001b[0m \u001b[0mkwds\u001b[0m\u001b[1;33m)\u001b[0m\u001b[1;33m\u001b[0m\u001b[1;33m\u001b[0m\u001b[0m\n\u001b[0m\u001b[0;32m    687\u001b[0m \u001b[1;33m\u001b[0m\u001b[0m\n\u001b[0;32m    688\u001b[0m \u001b[1;33m\u001b[0m\u001b[0m\n",
      "\u001b[1;32m~\\anaconda3\\envs\\learn-env\\lib\\site-packages\\pandas\\io\\parsers.py\u001b[0m in \u001b[0;36m_read\u001b[1;34m(filepath_or_buffer, kwds)\u001b[0m\n\u001b[0;32m    450\u001b[0m \u001b[1;33m\u001b[0m\u001b[0m\n\u001b[0;32m    451\u001b[0m     \u001b[1;31m# Create the parser.\u001b[0m\u001b[1;33m\u001b[0m\u001b[1;33m\u001b[0m\u001b[1;33m\u001b[0m\u001b[0m\n\u001b[1;32m--> 452\u001b[1;33m     \u001b[0mparser\u001b[0m \u001b[1;33m=\u001b[0m \u001b[0mTextFileReader\u001b[0m\u001b[1;33m(\u001b[0m\u001b[0mfp_or_buf\u001b[0m\u001b[1;33m,\u001b[0m \u001b[1;33m**\u001b[0m\u001b[0mkwds\u001b[0m\u001b[1;33m)\u001b[0m\u001b[1;33m\u001b[0m\u001b[1;33m\u001b[0m\u001b[0m\n\u001b[0m\u001b[0;32m    453\u001b[0m \u001b[1;33m\u001b[0m\u001b[0m\n\u001b[0;32m    454\u001b[0m     \u001b[1;32mif\u001b[0m \u001b[0mchunksize\u001b[0m \u001b[1;32mor\u001b[0m \u001b[0miterator\u001b[0m\u001b[1;33m:\u001b[0m\u001b[1;33m\u001b[0m\u001b[1;33m\u001b[0m\u001b[0m\n",
      "\u001b[1;32m~\\anaconda3\\envs\\learn-env\\lib\\site-packages\\pandas\\io\\parsers.py\u001b[0m in \u001b[0;36m__init__\u001b[1;34m(self, f, engine, **kwds)\u001b[0m\n\u001b[0;32m    944\u001b[0m             \u001b[0mself\u001b[0m\u001b[1;33m.\u001b[0m\u001b[0moptions\u001b[0m\u001b[1;33m[\u001b[0m\u001b[1;34m\"has_index_names\"\u001b[0m\u001b[1;33m]\u001b[0m \u001b[1;33m=\u001b[0m \u001b[0mkwds\u001b[0m\u001b[1;33m[\u001b[0m\u001b[1;34m\"has_index_names\"\u001b[0m\u001b[1;33m]\u001b[0m\u001b[1;33m\u001b[0m\u001b[1;33m\u001b[0m\u001b[0m\n\u001b[0;32m    945\u001b[0m \u001b[1;33m\u001b[0m\u001b[0m\n\u001b[1;32m--> 946\u001b[1;33m         \u001b[0mself\u001b[0m\u001b[1;33m.\u001b[0m\u001b[0m_make_engine\u001b[0m\u001b[1;33m(\u001b[0m\u001b[0mself\u001b[0m\u001b[1;33m.\u001b[0m\u001b[0mengine\u001b[0m\u001b[1;33m)\u001b[0m\u001b[1;33m\u001b[0m\u001b[1;33m\u001b[0m\u001b[0m\n\u001b[0m\u001b[0;32m    947\u001b[0m \u001b[1;33m\u001b[0m\u001b[0m\n\u001b[0;32m    948\u001b[0m     \u001b[1;32mdef\u001b[0m \u001b[0mclose\u001b[0m\u001b[1;33m(\u001b[0m\u001b[0mself\u001b[0m\u001b[1;33m)\u001b[0m\u001b[1;33m:\u001b[0m\u001b[1;33m\u001b[0m\u001b[1;33m\u001b[0m\u001b[0m\n",
      "\u001b[1;32m~\\anaconda3\\envs\\learn-env\\lib\\site-packages\\pandas\\io\\parsers.py\u001b[0m in \u001b[0;36m_make_engine\u001b[1;34m(self, engine)\u001b[0m\n\u001b[0;32m   1176\u001b[0m     \u001b[1;32mdef\u001b[0m \u001b[0m_make_engine\u001b[0m\u001b[1;33m(\u001b[0m\u001b[0mself\u001b[0m\u001b[1;33m,\u001b[0m \u001b[0mengine\u001b[0m\u001b[1;33m=\u001b[0m\u001b[1;34m\"c\"\u001b[0m\u001b[1;33m)\u001b[0m\u001b[1;33m:\u001b[0m\u001b[1;33m\u001b[0m\u001b[1;33m\u001b[0m\u001b[0m\n\u001b[0;32m   1177\u001b[0m         \u001b[1;32mif\u001b[0m \u001b[0mengine\u001b[0m \u001b[1;33m==\u001b[0m \u001b[1;34m\"c\"\u001b[0m\u001b[1;33m:\u001b[0m\u001b[1;33m\u001b[0m\u001b[1;33m\u001b[0m\u001b[0m\n\u001b[1;32m-> 1178\u001b[1;33m             \u001b[0mself\u001b[0m\u001b[1;33m.\u001b[0m\u001b[0m_engine\u001b[0m \u001b[1;33m=\u001b[0m \u001b[0mCParserWrapper\u001b[0m\u001b[1;33m(\u001b[0m\u001b[0mself\u001b[0m\u001b[1;33m.\u001b[0m\u001b[0mf\u001b[0m\u001b[1;33m,\u001b[0m \u001b[1;33m**\u001b[0m\u001b[0mself\u001b[0m\u001b[1;33m.\u001b[0m\u001b[0moptions\u001b[0m\u001b[1;33m)\u001b[0m\u001b[1;33m\u001b[0m\u001b[1;33m\u001b[0m\u001b[0m\n\u001b[0m\u001b[0;32m   1179\u001b[0m         \u001b[1;32melse\u001b[0m\u001b[1;33m:\u001b[0m\u001b[1;33m\u001b[0m\u001b[1;33m\u001b[0m\u001b[0m\n\u001b[0;32m   1180\u001b[0m             \u001b[1;32mif\u001b[0m \u001b[0mengine\u001b[0m \u001b[1;33m==\u001b[0m \u001b[1;34m\"python\"\u001b[0m\u001b[1;33m:\u001b[0m\u001b[1;33m\u001b[0m\u001b[1;33m\u001b[0m\u001b[0m\n",
      "\u001b[1;32m~\\anaconda3\\envs\\learn-env\\lib\\site-packages\\pandas\\io\\parsers.py\u001b[0m in \u001b[0;36m__init__\u001b[1;34m(self, src, **kwds)\u001b[0m\n\u001b[0;32m   2006\u001b[0m         \u001b[0mkwds\u001b[0m\u001b[1;33m[\u001b[0m\u001b[1;34m\"usecols\"\u001b[0m\u001b[1;33m]\u001b[0m \u001b[1;33m=\u001b[0m \u001b[0mself\u001b[0m\u001b[1;33m.\u001b[0m\u001b[0musecols\u001b[0m\u001b[1;33m\u001b[0m\u001b[1;33m\u001b[0m\u001b[0m\n\u001b[0;32m   2007\u001b[0m \u001b[1;33m\u001b[0m\u001b[0m\n\u001b[1;32m-> 2008\u001b[1;33m         \u001b[0mself\u001b[0m\u001b[1;33m.\u001b[0m\u001b[0m_reader\u001b[0m \u001b[1;33m=\u001b[0m \u001b[0mparsers\u001b[0m\u001b[1;33m.\u001b[0m\u001b[0mTextReader\u001b[0m\u001b[1;33m(\u001b[0m\u001b[0msrc\u001b[0m\u001b[1;33m,\u001b[0m \u001b[1;33m**\u001b[0m\u001b[0mkwds\u001b[0m\u001b[1;33m)\u001b[0m\u001b[1;33m\u001b[0m\u001b[1;33m\u001b[0m\u001b[0m\n\u001b[0m\u001b[0;32m   2009\u001b[0m         \u001b[0mself\u001b[0m\u001b[1;33m.\u001b[0m\u001b[0munnamed_cols\u001b[0m \u001b[1;33m=\u001b[0m \u001b[0mself\u001b[0m\u001b[1;33m.\u001b[0m\u001b[0m_reader\u001b[0m\u001b[1;33m.\u001b[0m\u001b[0munnamed_cols\u001b[0m\u001b[1;33m\u001b[0m\u001b[1;33m\u001b[0m\u001b[0m\n\u001b[0;32m   2010\u001b[0m \u001b[1;33m\u001b[0m\u001b[0m\n",
      "\u001b[1;32mpandas\\_libs\\parsers.pyx\u001b[0m in \u001b[0;36mpandas._libs.parsers.TextReader.__cinit__\u001b[1;34m()\u001b[0m\n",
      "\u001b[1;32mpandas\\_libs\\parsers.pyx\u001b[0m in \u001b[0;36mpandas._libs.parsers.TextReader._setup_parser_source\u001b[1;34m()\u001b[0m\n",
      "\u001b[1;31mFileNotFoundError\u001b[0m: [Errno 2] No such file or directory: '../data/mediandf.csv'"
     ]
    }
   ],
   "source": [
    "#read in the cleaned df and set col index\n",
    "df = pd.read_csv('../data/cleaned_df',index_col=0)\n",
    "df_med = pd.read_csv('../data/mediandf.csv',index_col=0)\n",
    "df_wf = pd.read_csv('../data/Closest_WF',index_col=0)\n",
    "df_wf.info()"
   ]
  },
  {
   "cell_type": "code",
   "execution_count": null,
   "metadata": {},
   "outputs": [],
   "source": [
    "#drop id col\n",
    "df.drop('id',axis=1,inplace=True)\n",
    "df = df.join(df_med)\n",
    "df = df.join(df_wf)"
   ]
  },
  {
   "cell_type": "markdown",
   "metadata": {},
   "source": [
    "Tried making some features."
   ]
  },
  {
   "cell_type": "code",
   "execution_count": null,
   "metadata": {},
   "outputs": [],
   "source": [
    "df['long_times_WF_sq'] = df['long'] * df['Closest_WF']\n",
    "df['yr_built_times_grade'] = df['yr_built'] * df['grade']\n",
    "df['water_times_grade'] = df['waterfront'] * df['grade']"
   ]
  },
  {
   "cell_type": "code",
   "execution_count": null,
   "metadata": {},
   "outputs": [],
   "source": [
    "#import model packages\n",
    "#for the basic model\n",
    "#for testing\n",
    "from sklearn.model_selection import cross_val_score\n",
    "#adding some more model testing\n",
    "from sklearn.model_selection import KFold\n",
    "#train test split\n",
    "from sklearn.model_selection import train_test_split\n",
    "#scoring\n",
    "#feature elimination\n",
    "from sklearn.feature_selection import RFE\n",
    "#scoring\n",
    "from sklearn.metrics import mean_squared_error\n",
    "#trying some polynomial features"
   ]
  },
  {
   "cell_type": "code",
   "execution_count": null,
   "metadata": {},
   "outputs": [],
   "source": [
    "#defining which values are categorical or not\n",
    "#'bedrooms','floors','condition','zipcode','season','view'\n",
    "categoricals = ['bedrooms','waterfront','floors','view','condition','zipcode','reno','season']\n",
    "\n",
    "continuous = ['price','sqft_living','sqft_lot','sqft_above','sqft_basement','yr_renovated','lat',\n",
    "              'sqft_living15','sqft_lot15','year','day','month','sqft_living_times_grade','condition_div_grade',\n",
    "              'sqft_living_sq','bathrooms_sq','median_by_zip','water_times_grade','long_times_WF_sq','yr_built_times_grade']\n",
    "\n",
    "df_cont = df[continuous]"
   ]
  },
  {
   "cell_type": "code",
   "execution_count": null,
   "metadata": {},
   "outputs": [],
   "source": [
    "#one hot encode the categoricals\n",
    "df_ohe = pd.get_dummies(df[categoricals])\n",
    "#combine the data into one frame\n",
    "preprocessed = pd.concat([df_cont, df_ohe],axis=1)\n",
    "#make feature set by dropping price\n",
    "X = preprocessed.drop('price',axis=1)"
   ]
  },
  {
   "cell_type": "code",
   "execution_count": null,
   "metadata": {},
   "outputs": [],
   "source": [
    "#scale here\n",
    "def scales(scaler,X):\n",
    "    #suppress warnings\n",
    "    import warnings\n",
    "    \n",
    "    from sklearn.exceptions import DataConversionWarning\n",
    "    \n",
    "    warnings.filterwarnings(action='ignore', category=RuntimeWarning)\n",
    "                        \n",
    "    from sklearn.preprocessing import MinMaxScaler\n",
    "    from sklearn.preprocessing import minmax_scale\n",
    "    from sklearn.preprocessing import MaxAbsScaler\n",
    "    from sklearn.preprocessing import StandardScaler\n",
    "    from sklearn.preprocessing import RobustScaler\n",
    "    from sklearn.preprocessing import Normalizer\n",
    "    from sklearn.preprocessing import QuantileTransformer\n",
    "    from sklearn.preprocessing import PowerTransformer\n",
    "    '''choose which scaler to use. Pass the name and features to scale'''\n",
    "    \n",
    "    if scaler == 'standard':\n",
    "        standard = StandardScaler().fit_transform(X)\n",
    "        choice = standard\n",
    "\n",
    "    elif scaler == 'minmax':\n",
    "        minmax = MinMaxScaler().fit_transform(X)\n",
    "        choice = minmax\n",
    "    elif scaler == 'maxabs':\n",
    "        maxabs = MaxAbsScaler().fit_transform(X)\n",
    "        choice = maxabs\n",
    "    elif scaler == 'robust':\n",
    "        robust = RobustScaler().fit_transform(X)\n",
    "        choice = robust\n",
    "    elif scaler == 'norm':\n",
    "        norm = Normalizer().fit_transform(X)\n",
    "        choice = norm\n",
    "    elif scaler == 'quant':\n",
    "        quant = QuantileTransformer().fit_transform(X)\n",
    "        choice = quant\n",
    "    elif scaler == 'power':\n",
    "        power = PowerTransformer().fit_transform(X)\n",
    "        choice = power\n",
    "    elif scaler == 'none':\n",
    "        choice = X\n",
    "        \n",
    "    choice = pd.DataFrame(choice)\n",
    "    return choice"
   ]
  },
  {
   "cell_type": "code",
   "execution_count": null,
   "metadata": {},
   "outputs": [],
   "source": [
    "\n",
    "#make target set\n",
    "y = preprocessed['price']\n",
    "\n",
    "def model_train(scaled_X,y,n_feats,estimator):\n",
    "\n",
    "    #make train test split\n",
    "    X_train, X_test, y_train, y_test = train_test_split(scaled_X, y, random_state=2)\n",
    "    #ini regression model\n",
    "    #Apply polynomial features\n",
    "    #comment these line out to skip\n",
    "#     X_train = poly.fit_transform(X_train,y_train)\n",
    "#     X_test = poly.fit_transform(X_test,y_test)\n",
    "\n",
    "    #use the best features\n",
    "    #selector = RFE(estimator, n_features_to_select=10, step=1)\n",
    "    \n",
    "    #estimator = selector.fit(X_test, y_test)\n",
    "    estimator = estimator.fit(X_test, y_test)\n",
    "    #get predicted values\n",
    "    \n",
    "    \n",
    "    return estimator, y_train, y_test, X_test, X_train"
   ]
  },
  {
   "cell_type": "code",
   "execution_count": null,
   "metadata": {},
   "outputs": [],
   "source": []
  },
  {
   "cell_type": "code",
   "execution_count": null,
   "metadata": {},
   "outputs": [],
   "source": [
    "def model_score(estimator,y_train,y_test,X_test,X_train,n_splits=5):\n",
    "    '''Takes estimator, y_train, y_test, X_test, X_train, n_splits\n",
    "        n_splits is optional'''\n",
    "    \n",
    "    \n",
    "    from sklearn.metrics import r2_score\n",
    "    \n",
    "    y_hat_train = estimator.predict(X_train)\n",
    "    y_hat_test = estimator.predict(X_test)\n",
    "    \n",
    "    \n",
    "    \n",
    "    \n",
    "    #r2 scoring\n",
    "    split_score = r2_score(y_test, y_hat_test)\n",
    "    r2_score = split_score.mean()\n",
    "    #RMSE scoring\n",
    "    RMSE_test = mean_squared_error(y_test,y_hat_test,squared=False)\n",
    "    RMSE_train = mean_squared_error(y_train,y_hat_train,squared=False)\n",
    "    RMSE_diff = abs(RMSE_test - RMSE_train)\n",
    "    # RMSE_test,RMSE_train\n",
    "    #cross val scoring using KFold splits\n",
    "    cv = KFold(n_splits=n_splits,shuffle=True)\n",
    "    cv_score = cross_val_score(estimator,X_test,y_test,scoring='r2',cv=cv)\n",
    "    cv_scores = cv_score.mean()\n",
    "    \n",
    "    #plot here\n",
    "#     coefs = estimator.coef_\n",
    "    \n",
    "    \n",
    "    \n",
    "    \n",
    "    return round(r2_score,3),round(RMSE_diff,3),round(cv_scores,3),round(RMSE_test,3),round(RMSE_train,3)"
   ]
  },
  {
   "cell_type": "code",
   "execution_count": null,
   "metadata": {},
   "outputs": [],
   "source": []
  },
  {
   "cell_type": "code",
   "execution_count": null,
   "metadata": {},
   "outputs": [],
   "source": [
    "print(f'There are {len(X.columns)} features to choose from')"
   ]
  },
  {
   "cell_type": "code",
   "execution_count": null,
   "metadata": {},
   "outputs": [],
   "source": [
    "from sklearn.linear_model import LinearRegression\n",
    "from sklearn.linear_model import SGDRegressor\n",
    "from sklearn.preprocessing import PolynomialFeatures\n",
    "#set to degree 2, 3 is too slow\n",
    "from sklearn.linear_model import Ridge\n",
    "from sklearn.linear_model import Lasso\n",
    "from sklearn.neighbors import KNeighborsRegressor\n",
    "from sklearn import tree\n",
    "\n",
    "#'none',standard','minmax','maxabs','robust','norm','quant','power'\n",
    "\n",
    "def get_scores(X=X):\n",
    "\n",
    "    scalers = ['standard']\n",
    "    estimators = ['linreg']\n",
    "\n",
    "    poly = PolynomialFeatures(degree = 2,interaction_only=True)\n",
    "    poly_Features = False\n",
    "\n",
    "    if poly_Features == True:    \n",
    "        X = poly.fit_transform(X)\n",
    "\n",
    "    for estimator in estimators:\n",
    "            \n",
    "            if estimator == 'linreg':\n",
    "                est = LinearRegression(n_jobs=4)\n",
    "            elif estimator == 'sgd':\n",
    "                est = SGDRegressor()\n",
    "            elif estimator == 'ridge':\n",
    "                est = Ridge(alpha=0.4,max_iter=1000)\n",
    "            elif estimator == 'lasso':\n",
    "                est = Lasso(alpha=0.1,max_iter=1000,tol=10000)\n",
    "            elif estimator == 'kn':\n",
    "                est = KNeighborsRegressor(n_neighbors=20,n_jobs=4)\n",
    "            elif estimator == 'tree':\n",
    "                est = tree.DecisionTreeRegressor()\n",
    "            for scaler in scalers:\n",
    "                scaled_X = scales(scaler,X)\n",
    "\n",
    "                model_trains = model_train(scaled_X,y,10,est)\n",
    "                estimator = model_trains[0]\n",
    "                y_train = model_trains[1]\n",
    "                y_test = model_trains[2]\n",
    "                X_test = model_trains[3]\n",
    "                X_train = model_trains[4]\n",
    "\n",
    "                #round(r2_score,3),round(RMSE_diff,3),round(cv_scores,3),round(RMSE_test,3),round(RMSE_train,3),coefs\n",
    "\n",
    "                r2_score, RMSE_diff, cv_score, RMSE_test, RMSE_train = model_score(estimator,\n",
    "                                       y_train,\n",
    "                                       y_test,\n",
    "                                       X_test,\n",
    "                                       X_train,\n",
    "                                       5)\n",
    "\n",
    "                print(f'Model used: {est}\\n'\n",
    "                      f'Scaler used: {scaler}\\n'\n",
    "                      f'Model scores are:\\n' f'r2_score: {r2_score}\\n' \n",
    "                      f'RMSE differece: {RMSE_diff}\\n'\n",
    "                      f'Test RMSE: {RMSE_test}\\n'\n",
    "                      f'Train RMSE: {RMSE_train}\\n'  \n",
    "                      f'Cross Val Scores: {cv_score}\\n\\n')\n",
    "                \n",
    "                \n",
    "    return estimator,scaler,r2_score, RMSE_diff, cv_score, RMSE_test, RMSE_train\n"
   ]
  },
  {
   "cell_type": "code",
   "execution_count": null,
   "metadata": {},
   "outputs": [],
   "source": [
    "get_scores()"
   ]
  }
 ],
 "metadata": {
  "kernelspec": {
   "display_name": "learn-env",
   "language": "python",
   "name": "learn-env"
  },
  "language_info": {
   "codemirror_mode": {
    "name": "ipython",
    "version": 3
   },
   "file_extension": ".py",
   "mimetype": "text/x-python",
   "name": "python",
   "nbconvert_exporter": "python",
   "pygments_lexer": "ipython3",
   "version": "3.8.5"
  }
 },
 "nbformat": 4,
 "nbformat_minor": 4
}
